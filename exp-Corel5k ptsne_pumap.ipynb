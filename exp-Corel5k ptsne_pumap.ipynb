{
 "cells": [
  {
   "cell_type": "code",
   "execution_count": 1,
   "metadata": {},
   "outputs": [
    {
     "name": "stdout",
     "output_type": "stream",
     "text": [
      "Using device: True NVIDIA GeForce RTX 4090\n"
     ]
    }
   ],
   "source": [
    "import matplotlib.pyplot as plt\n",
    "import numpy as np\n",
    "import random\n",
    "from PIL import Image  \n",
    "import time\n",
    "\n",
    "import torchvision\n",
    "import torchvision.transforms as transforms\n",
    "import torchvision.utils\n",
    "import torch\n",
    "import torch.nn as nn\n",
    "import torch.nn.functional as F\n",
    "from torch import optim\n",
    "\n",
    "from utils import toumap, totsne, plotsmart\n",
    "from utils import getallranks, calcmap\n",
    "from utils import bestk_silhouette_score, getclusters_ws\n",
    "\n",
    "from dataset import CustomDataset, DatasetFeatsTrain, dsbuild\n",
    "from model import netmodel\n",
    "from loss import HybridLoss\n",
    "\n",
    "device = torch.device(\"cuda\" if torch.cuda.is_available() else \"cpu\") \n",
    "\n",
    "print('Using device:', torch.cuda.is_available(), torch.cuda.get_device_name(0))"
   ]
  },
  {
   "cell_type": "markdown",
   "metadata": {},
   "source": [
    "# Feature Extraction"
   ]
  },
  {
   "cell_type": "markdown",
   "metadata": {},
   "source": [
    "**Pre-traineded models**"
   ]
  },
  {
   "cell_type": "code",
   "execution_count": 2,
   "metadata": {},
   "outputs": [
    {
     "name": "stderr",
     "output_type": "stream",
     "text": [
      "Using cache found in /home/de/.cache/torch/hub/facebookresearch_dinov2_main\n",
      "/home/de/.cache/torch/hub/facebookresearch_dinov2_main/dinov2/layers/swiglu_ffn.py:43: UserWarning: xFormers is available (SwiGLU)\n",
      "  warnings.warn(\"xFormers is available (SwiGLU)\")\n",
      "/home/de/.cache/torch/hub/facebookresearch_dinov2_main/dinov2/layers/attention.py:27: UserWarning: xFormers is available (Attention)\n",
      "  warnings.warn(\"xFormers is available (Attention)\")\n",
      "/home/de/.cache/torch/hub/facebookresearch_dinov2_main/dinov2/layers/block.py:33: UserWarning: xFormers is available (Block)\n",
      "  warnings.warn(\"xFormers is available (Block)\")\n"
     ]
    }
   ],
   "source": [
    "netfeat = torch.hub.load('facebookresearch/dinov2', 'dinov2_vitg14')\n",
    "netfeat.to(device)\n",
    "netfeat.eval()\n",
    "\n",
    "def getfeat(x):\n",
    "    with torch.no_grad():\n",
    "        X = netfeat(x)\n",
    "    return X"
   ]
  },
  {
   "cell_type": "code",
   "execution_count": 3,
   "metadata": {},
   "outputs": [],
   "source": [
    "class ConvertTo3Channels:\n",
    "    def __call__(self, img):\n",
    "        # Se a imagem já tiver 3 canais, retorne-a como está\n",
    "        if img.mode == \"RGB\":\n",
    "            return img\n",
    "        # Caso contrário, converta-a para RGB\n",
    "        return img.convert(\"RGB\")\n",
    "    \n",
    "transform = transforms.Compose(\n",
    "    [\n",
    "        ConvertTo3Channels(),\n",
    "        transforms.Resize((224, 224), transforms.InterpolationMode.BICUBIC),\n",
    "        transforms.ToTensor()\n",
    "    ]\n",
    ")\n",
    "\n",
    "def configfeats(ds):\n",
    "    with torch.no_grad():\n",
    "        ds.feats = [[getfeat(d.unsqueeze(0).to(device))[0].cpu(), l] for d, l in ds]\n",
    "\n",
    "train_dataset = dsbuild('/home/de/lab/ds/corel5k', transform=transform)\n"
   ]
  },
  {
   "cell_type": "code",
   "execution_count": 4,
   "metadata": {},
   "outputs": [
    {
     "name": "stderr",
     "output_type": "stream",
     "text": [
      "/tmp/ipykernel_48042/277675855.py:9: UserWarning: To copy construct from a tensor, it is recommended to use sourceTensor.clone().detach() or sourceTensor.clone().detach().requires_grad_(True), rather than torch.tensor(sourceTensor).\n",
      "  imgstrain = [torch.tensor(x[idx]) for idx in crossidxs[0][0]]\n",
      "/tmp/ipykernel_48042/277675855.py:12: UserWarning: To copy construct from a tensor, it is recommended to use sourceTensor.clone().detach() or sourceTensor.clone().detach().requires_grad_(True), rather than torch.tensor(sourceTensor).\n",
      "  imgstest = [torch.tensor(x[idx]) for idx in crossidxs[0][1]]\n"
     ]
    },
    {
     "data": {
      "text/plain": [
       "4000"
      ]
     },
     "execution_count": 4,
     "metadata": {},
     "output_type": "execute_result"
    }
   ],
   "source": [
    "from sklearn.model_selection import StratifiedKFold\n",
    "\n",
    "n_folds = 5 # ou seja um quinto (20/80), vai treinar com 20% e validar o resto, mas com todas as partes, retornando 5 resultados, e depois obter uma média\n",
    "stratified_kfold = StratifiedKFold(n_splits=n_folds, shuffle=True)\n",
    "x, y = [ d for d,_ in train_dataset], train_dataset.targets\n",
    "\n",
    "crossidxs = [[idxtrain, idxtest] for idxtrain, idxtest in stratified_kfold.split(x, y)]\n",
    "\n",
    "imgstrain = [torch.tensor(x[idx]) for idx in crossidxs[0][0]]\n",
    "lbstrain   = [torch.tensor(y[idx]) for idx in crossidxs[0][0]]\n",
    "\n",
    "imgstest = [torch.tensor(x[idx]) for idx in crossidxs[0][1]]\n",
    "lbstest   = [torch.tensor(y[idx]) for idx in crossidxs[0][1]]\n",
    "\n",
    "ds = CustomDataset(imgstrain, lbstrain, None, train_dataset.classes)\n",
    "dstest = CustomDataset(imgstest, lbstest, None, train_dataset.classes)\n",
    "\n",
    "configfeats(ds)\n",
    "configfeats(dstest)\n",
    "len(ds.data)"
   ]
  },
  {
   "cell_type": "code",
   "execution_count": 5,
   "metadata": {},
   "outputs": [],
   "source": [
    "res = {}\n",
    "res['p-tsne'] = []\n",
    "res['p-umap'] = []"
   ]
  },
  {
   "cell_type": "markdown",
   "metadata": {},
   "source": [
    "**FOLD 1**"
   ]
  },
  {
   "cell_type": "markdown",
   "metadata": {},
   "source": [
    "**P-TSNE**"
   ]
  },
  {
   "cell_type": "code",
   "execution_count": 6,
   "metadata": {},
   "outputs": [
    {
     "name": "stdout",
     "output_type": "stream",
     "text": [
      "Training on cuda\n"
     ]
    },
    {
     "name": "stderr",
     "output_type": "stream",
     "text": [
      "100%|██████████| 8/8 [00:00<00:00, 41.57it/s]"
     ]
    },
    {
     "name": "stdout",
     "output_type": "stream",
     "text": [
      "====> Epoch: 1. Time 0:00:00.193713. Average loss: 10.8128\n"
     ]
    },
    {
     "name": "stderr",
     "output_type": "stream",
     "text": [
      "\n",
      "100%|██████████| 8/8 [00:00<00:00, 43.07it/s]"
     ]
    },
    {
     "name": "stdout",
     "output_type": "stream",
     "text": [
      "====> Epoch: 2. Time 0:00:00.186391. Average loss: 1.0519\n"
     ]
    },
    {
     "name": "stderr",
     "output_type": "stream",
     "text": [
      "\n",
      "100%|██████████| 8/8 [00:00<00:00, 43.11it/s]"
     ]
    },
    {
     "name": "stdout",
     "output_type": "stream",
     "text": [
      "====> Epoch: 3. Time 0:00:00.186137. Average loss: 0.6926\n"
     ]
    },
    {
     "name": "stderr",
     "output_type": "stream",
     "text": [
      "\n",
      "100%|██████████| 8/8 [00:00<00:00, 43.14it/s]"
     ]
    },
    {
     "name": "stdout",
     "output_type": "stream",
     "text": [
      "====> Epoch: 4. Time 0:00:00.186013. Average loss: 0.5100\n"
     ]
    },
    {
     "name": "stderr",
     "output_type": "stream",
     "text": [
      "\n",
      "100%|██████████| 8/8 [00:00<00:00, 43.05it/s]"
     ]
    },
    {
     "name": "stdout",
     "output_type": "stream",
     "text": [
      "====> Epoch: 5. Time 0:00:00.186435. Average loss: 0.4076\n"
     ]
    },
    {
     "name": "stderr",
     "output_type": "stream",
     "text": [
      "\n",
      "100%|██████████| 8/8 [00:00<00:00, 17.12it/s]"
     ]
    },
    {
     "name": "stdout",
     "output_type": "stream",
     "text": [
      "====> Epoch: 6. Time 0:00:00.468131. Average loss: 0.3374\n"
     ]
    },
    {
     "name": "stderr",
     "output_type": "stream",
     "text": [
      "\n",
      "100%|██████████| 8/8 [00:00<00:00, 14.63it/s]"
     ]
    },
    {
     "name": "stdout",
     "output_type": "stream",
     "text": [
      "====> Epoch: 7. Time 0:00:00.547604. Average loss: 0.2884\n"
     ]
    },
    {
     "name": "stderr",
     "output_type": "stream",
     "text": [
      "\n",
      "100%|██████████| 8/8 [00:00<00:00, 14.63it/s]"
     ]
    },
    {
     "name": "stdout",
     "output_type": "stream",
     "text": [
      "====> Epoch: 8. Time 0:00:00.547301. Average loss: 0.2491\n"
     ]
    },
    {
     "name": "stderr",
     "output_type": "stream",
     "text": [
      "\n",
      "100%|██████████| 8/8 [00:00<00:00, 14.61it/s]"
     ]
    },
    {
     "name": "stdout",
     "output_type": "stream",
     "text": [
      "====> Epoch: 9. Time 0:00:00.548282. Average loss: 0.2212\n"
     ]
    },
    {
     "name": "stderr",
     "output_type": "stream",
     "text": [
      "\n",
      "100%|██████████| 8/8 [00:00<00:00, 15.43it/s]"
     ]
    },
    {
     "name": "stdout",
     "output_type": "stream",
     "text": [
      "====> Epoch: 10. Time 0:00:00.519453. Average loss: 0.1978\n",
      "Training time: 0:00:03.571436\n"
     ]
    },
    {
     "name": "stderr",
     "output_type": "stream",
     "text": [
      "\n",
      "No artists with labels found to put in legend.  Note that artists whose label start with an underscore are ignored when legend() is called with no argument.\n"
     ]
    },
    {
     "data": {
      "image/png": "[encoded data removed]",
      "text/plain": [
       "<Figure size 640x480 with 1 Axes>"
      ]
     },
     "metadata": {},
     "output_type": "display_data"
    },
    {
     "data": {
      "text/plain": [
       "0.6876902362614375"
      ]
     },
     "execution_count": 6,
     "metadata": {},
     "output_type": "execute_result"
    }
   ],
   "source": [
    "from torch.utils.data import TensorDataset\n",
    "from ptsne import train_parametric_tsne_model\n",
    "from ptsne.config import Config\n",
    "from ptsne.ptsne_net import model\n",
    "\n",
    "config = Config()\n",
    "print(f\"Training on {config.dev}\", flush=True)\n",
    "trainfs = [f for f, l in ds.feats]\n",
    "trainlbs = [l for f, l in ds.feats]\n",
    "\n",
    "dim_input = trainfs[0].shape[0]\n",
    "net = model(dim_input).to(device)\n",
    "\n",
    "fs = torch.stack(trainfs).to(device)\n",
    "lbs = torch.tensor(trainlbs)\n",
    "trainset = TensorDataset(fs, lbs)\n",
    "train_parametric_tsne_model(net, trainset, dim_input, config)\n",
    "\n",
    "net.eval()\n",
    "with torch.no_grad():\n",
    "    fs, lbs = [net(f.to(device).unsqueeze(0)).cpu().squeeze() for f,l in dstest.feats], [l for f,l in dstest.feats]\n",
    "\n",
    "plotsmart(np.array(fs), lbs, \"Embeddings\", True)\n",
    "\n",
    "ranks = getallranks(fs)\n",
    "resmap = calcmap(ranks, lbs)\n",
    "res['p-tsne'].append(resmap)\n",
    "resmap"
   ]
  },
  {
   "cell_type": "markdown",
   "metadata": {},
   "source": [
    "**P-UMAP**"
   ]
  },
  {
   "cell_type": "code",
   "execution_count": 7,
   "metadata": {},
   "outputs": [
    {
     "name": "stderr",
     "output_type": "stream",
     "text": [
      "GPU available: True (cuda), used: True\n",
      "TPU available: False, using: 0 TPU cores\n",
      "HPU available: False, using: 0 HPUs\n"
     ]
    },
    {
     "name": "stdout",
     "output_type": "stream",
     "text": [
      "Mon Dec 16 13:44:22 2024 Building RP forest with 8 trees\n",
      "Mon Dec 16 13:44:24 2024 NN descent for 12 iterations\n",
      "\t 1  /  12\n",
      "\t 2  /  12\n",
      "\t 3  /  12\n",
      "\t 4  /  12\n",
      "\t 5  /  12\n",
      "\tStopping threshold met -- exiting after 5 iterations\n"
     ]
    },
    {
     "name": "stderr",
     "output_type": "stream",
     "text": [
      "You are using a CUDA device ('NVIDIA GeForce RTX 4090') that has Tensor Cores. To properly utilize them, you should set `torch.set_float32_matmul_precision('medium' | 'high')` which will trade-off precision for performance. For more details, read https://pytorch.org/docs/stable/generated/torch.set_float32_matmul_precision.html#torch.set_float32_matmul_precision\n",
      "LOCAL_RANK: 0 - CUDA_VISIBLE_DEVICES: [0]\n",
      "\n",
      "  | Name    | Type            | Params | Mode \n",
      "----------------------------------------------------\n",
      "0 | encoder | default_encoder | 388 K  | train\n",
      "----------------------------------------------------\n",
      "388 K     Trainable params\n",
      "0         Non-trainable params\n",
      "388 K     Total params\n",
      "1.553     Total estimated model params size (MB)\n",
      "10        Modules in train mode\n",
      "0         Modules in eval mode\n",
      "/home/de/miniconda3/lib/python3.11/site-packages/pytorch_lightning/trainer/connectors/data_connector.py:424: The 'train_dataloader' does not have many workers which may be a bottleneck. Consider increasing the value of the `num_workers` argument` to `num_workers=23` in the `DataLoader` to improve performance.\n"
     ]
    },
    {
     "data": {
      "application/vnd.jupyter.widget-view+json": {
       "model_id": "3ab1b4c8e47b4b35b9c5ce77d57ec1d8",
       "version_major": 2,
       "version_minor": 0
      },
      "text/plain": [
       "Training: |          | 0/? [00:00<?, ?it/s]"
      ]
     },
     "metadata": {},
     "output_type": "display_data"
    },
    {
     "name": "stderr",
     "output_type": "stream",
     "text": [
      "`Trainer.fit` stopped: `max_epochs=10` reached.\n",
      "No artists with labels found to put in legend.  Note that artists whose label start with an underscore are ignored when legend() is called with no argument.\n"
     ]
    },
    {
     "name": "stdout",
     "output_type": "stream",
     "text": [
      "Reducing array of shape torch.Size([1000, 1536]) to (1000, 2)\n"
     ]
    },
    {
     "data": {
      "image/png": "[encoded data removed]",
      "text/plain": [
       "<Figure size 640x480 with 1 Axes>"
      ]
     },
     "metadata": {},
     "output_type": "display_data"
    },
    {
     "data": {
      "text/plain": [
       "0.716935991173991"
      ]
     },
     "execution_count": 7,
     "metadata": {},
     "output_type": "execute_result"
    }
   ],
   "source": [
    "import sys\n",
    "\n",
    "try:\n",
    "    from umap_pytorch import PUMAP\n",
    "except ImportError:\n",
    "    print(\"Pacote 'umap-pytorch' não encontrado. Instalando...\")\n",
    "    import subprocess\n",
    "    subprocess.check_call([sys.executable, \"-m\", \"pip\", \"install\", \"umap-pytorch\"])\n",
    "    from umap_pytorch import PUMAP \n",
    "\n",
    "pumap = PUMAP(\n",
    "        encoder=None,           # nn.Module, None for default\n",
    "        decoder=None,           # nn.Module, True for default, None for encoder only\n",
    "        n_neighbors=10,\n",
    "        min_dist=0.1,\n",
    "        metric=\"euclidean\",\n",
    "        n_components=2,\n",
    "        beta=1.0,               # How much to weigh reconstruction loss for decoder\n",
    "        reconstruction_loss=F.binary_cross_entropy_with_logits, # pass in custom reconstruction loss functions\n",
    "        random_state=None,\n",
    "        lr=1e-3,\n",
    "        epochs=10,\n",
    "        batch_size=64,\n",
    "        num_workers=1,\n",
    "        num_gpus=1,\n",
    "        match_nonparametric_umap=False # Train network to match embeddings from non parametric umap\n",
    ")\n",
    "\n",
    "pumap.fit(torch.stack(trainfs))\n",
    "\n",
    "fs = [f for f, l in dstest.feats]\n",
    "lbs = [l for f, l in dstest.feats]\n",
    "\n",
    "embedding = pumap.transform(torch.stack(fs))\n",
    "plotsmart(embedding, lbs, \"Embeddings\", True)\n",
    "\n",
    "ranks = getallranks([torch.tensor(e) for e in embedding])\n",
    "resmap = calcmap(ranks, lbs)\n",
    "res['p-umap'].append(resmap)\n",
    "resmap"
   ]
  },
  {
   "cell_type": "markdown",
   "metadata": {},
   "source": [
    "**FOLD 2**"
   ]
  },
  {
   "cell_type": "code",
   "execution_count": 8,
   "metadata": {},
   "outputs": [
    {
     "name": "stderr",
     "output_type": "stream",
     "text": [
      "/tmp/ipykernel_48042/1510937138.py:2: UserWarning: To copy construct from a tensor, it is recommended to use sourceTensor.clone().detach() or sourceTensor.clone().detach().requires_grad_(True), rather than torch.tensor(sourceTensor).\n",
      "  imgstrain = [torch.tensor(x[idx]) for idx in crossidxs[idfold][0]]\n",
      "/tmp/ipykernel_48042/1510937138.py:5: UserWarning: To copy construct from a tensor, it is recommended to use sourceTensor.clone().detach() or sourceTensor.clone().detach().requires_grad_(True), rather than torch.tensor(sourceTensor).\n",
      "  imgstest = [torch.tensor(x[idx]) for idx in crossidxs[idfold][1]]\n"
     ]
    },
    {
     "name": "stdout",
     "output_type": "stream",
     "text": [
      "Training on cuda\n"
     ]
    },
    {
     "name": "stderr",
     "output_type": "stream",
     "text": [
      "100%|██████████| 8/8 [00:00<00:00, 16.23it/s]"
     ]
    },
    {
     "name": "stdout",
     "output_type": "stream",
     "text": [
      "====> Epoch: 1. Time 0:00:00.493653. Average loss: 10.8955\n"
     ]
    },
    {
     "name": "stderr",
     "output_type": "stream",
     "text": [
      "\n",
      "100%|██████████| 8/8 [00:00<00:00, 14.59it/s]"
     ]
    },
    {
     "name": "stdout",
     "output_type": "stream",
     "text": [
      "====> Epoch: 2. Time 0:00:00.549201. Average loss: 1.0486\n"
     ]
    },
    {
     "name": "stderr",
     "output_type": "stream",
     "text": [
      "\n",
      "100%|██████████| 8/8 [00:00<00:00, 14.67it/s]"
     ]
    },
    {
     "name": "stdout",
     "output_type": "stream",
     "text": [
      "====> Epoch: 3. Time 0:00:00.546063. Average loss: 0.6888\n"
     ]
    },
    {
     "name": "stderr",
     "output_type": "stream",
     "text": [
      "\n",
      "100%|██████████| 8/8 [00:00<00:00, 16.08it/s]"
     ]
    },
    {
     "name": "stdout",
     "output_type": "stream",
     "text": [
      "====> Epoch: 4. Time 0:00:00.498220. Average loss: 0.5135\n"
     ]
    },
    {
     "name": "stderr",
     "output_type": "stream",
     "text": [
      "\n",
      "100%|██████████| 8/8 [00:00<00:00, 14.66it/s]"
     ]
    },
    {
     "name": "stdout",
     "output_type": "stream",
     "text": [
      "====> Epoch: 5. Time 0:00:00.546458. Average loss: 0.4076\n"
     ]
    },
    {
     "name": "stderr",
     "output_type": "stream",
     "text": [
      "\n",
      "100%|██████████| 8/8 [00:00<00:00, 14.51it/s]"
     ]
    },
    {
     "name": "stdout",
     "output_type": "stream",
     "text": [
      "====> Epoch: 6. Time 0:00:00.551793. Average loss: 0.3388\n"
     ]
    },
    {
     "name": "stderr",
     "output_type": "stream",
     "text": [
      "\n",
      "100%|██████████| 8/8 [00:00<00:00, 14.61it/s]"
     ]
    },
    {
     "name": "stdout",
     "output_type": "stream",
     "text": [
      "====> Epoch: 7. Time 0:00:00.548314. Average loss: 0.2867\n"
     ]
    },
    {
     "name": "stderr",
     "output_type": "stream",
     "text": [
      "\n",
      "100%|██████████| 8/8 [00:00<00:00, 14.68it/s]"
     ]
    },
    {
     "name": "stdout",
     "output_type": "stream",
     "text": [
      "====> Epoch: 8. Time 0:00:00.545713. Average loss: 0.2495\n"
     ]
    },
    {
     "name": "stderr",
     "output_type": "stream",
     "text": [
      "\n",
      "100%|██████████| 8/8 [00:00<00:00, 15.39it/s]"
     ]
    },
    {
     "name": "stdout",
     "output_type": "stream",
     "text": [
      "====> Epoch: 9. Time 0:00:00.520528. Average loss: 0.2214\n"
     ]
    },
    {
     "name": "stderr",
     "output_type": "stream",
     "text": [
      "\n",
      "100%|██████████| 8/8 [00:00<00:00, 19.47it/s]"
     ]
    },
    {
     "name": "stdout",
     "output_type": "stream",
     "text": [
      "====> Epoch: 10. Time 0:00:00.411619. Average loss: 0.1985\n",
      "Training time: 0:00:05.213311\n"
     ]
    },
    {
     "name": "stderr",
     "output_type": "stream",
     "text": [
      "\n",
      "GPU available: True (cuda), used: True\n",
      "TPU available: False, using: 0 TPU cores\n",
      "HPU available: False, using: 0 HPUs\n"
     ]
    },
    {
     "name": "stdout",
     "output_type": "stream",
     "text": [
      "Mon Dec 16 13:48:37 2024 Building RP forest with 8 trees\n",
      "Mon Dec 16 13:48:37 2024 NN descent for 12 iterations\n",
      "\t 1  /  12\n",
      "\t 2  /  12\n",
      "\t 3  /  12\n",
      "\t 4  /  12\n",
      "\t 5  /  12\n",
      "\tStopping threshold met -- exiting after 5 iterations\n"
     ]
    },
    {
     "name": "stderr",
     "output_type": "stream",
     "text": [
      "LOCAL_RANK: 0 - CUDA_VISIBLE_DEVICES: [0]\n",
      "\n",
      "  | Name    | Type            | Params | Mode \n",
      "----------------------------------------------------\n",
      "0 | encoder | default_encoder | 388 K  | train\n",
      "----------------------------------------------------\n",
      "388 K     Trainable params\n",
      "0         Non-trainable params\n",
      "388 K     Total params\n",
      "1.553     Total estimated model params size (MB)\n",
      "10        Modules in train mode\n",
      "0         Modules in eval mode\n",
      "/home/de/miniconda3/lib/python3.11/site-packages/pytorch_lightning/trainer/connectors/data_connector.py:424: The 'train_dataloader' does not have many workers which may be a bottleneck. Consider increasing the value of the `num_workers` argument` to `num_workers=23` in the `DataLoader` to improve performance.\n"
     ]
    },
    {
     "data": {
      "application/vnd.jupyter.widget-view+json": {
       "model_id": "4dd1ddfa71e54affb96349a8db46a3e5",
       "version_major": 2,
       "version_minor": 0
      },
      "text/plain": [
       "Training: |          | 0/? [00:00<?, ?it/s]"
      ]
     },
     "metadata": {},
     "output_type": "display_data"
    },
    {
     "name": "stderr",
     "output_type": "stream",
     "text": [
      "`Trainer.fit` stopped: `max_epochs=10` reached.\n",
      "No artists with labels found to put in legend.  Note that artists whose label start with an underscore are ignored when legend() is called with no argument.\n"
     ]
    },
    {
     "name": "stdout",
     "output_type": "stream",
     "text": [
      "Reducing array of shape torch.Size([1000, 1536]) to (1000, 2)\n"
     ]
    },
    {
     "data": {
      "image/png": "[encoded data removed]",
      "text/plain": [
       "<Figure size 640x480 with 1 Axes>"
      ]
     },
     "metadata": {},
     "output_type": "display_data"
    },
    {
     "data": {
      "text/plain": [
       "0.716537947315647"
      ]
     },
     "execution_count": 8,
     "metadata": {},
     "output_type": "execute_result"
    }
   ],
   "source": [
    "idfold = 1 # = Fold 2\n",
    "imgstrain = [torch.tensor(x[idx]) for idx in crossidxs[idfold][0]]\n",
    "lbstrain   = [torch.tensor(y[idx]) for idx in crossidxs[idfold][0]]\n",
    "\n",
    "imgstest = [torch.tensor(x[idx]) for idx in crossidxs[idfold][1]]\n",
    "lbstest   = [torch.tensor(y[idx]) for idx in crossidxs[idfold][1]]\n",
    "\n",
    "ds = CustomDataset(imgstrain, lbstrain, None, train_dataset.classes)\n",
    "dstest = CustomDataset(imgstest, lbstest, None, train_dataset.classes)\n",
    "\n",
    "configfeats(ds)\n",
    "configfeats(dstest)\n",
    "\n",
    "from ptsne import train_parametric_tsne_model\n",
    "from ptsne.config import Config\n",
    "from ptsne.ptsne_net import model\n",
    "\n",
    "config = Config()\n",
    "print(f\"Training on {config.dev}\", flush=True)\n",
    "trainfs = [f for f, l in ds.feats]\n",
    "trainlbs = [l for f, l in ds.feats]\n",
    "\n",
    "dim_input = trainfs[0].shape[0]\n",
    "net = model(dim_input).to(device)\n",
    "\n",
    "fs = torch.stack(trainfs).to(device)\n",
    "lbs = torch.tensor(trainlbs)\n",
    "trainset = TensorDataset(fs, lbs)\n",
    "train_parametric_tsne_model(net, trainset, dim_input, config)\n",
    "\n",
    "net.eval()\n",
    "with torch.no_grad():\n",
    "    fs, lbs = [net(f.to(device).unsqueeze(0)).cpu().squeeze() for f,l in dstest.feats], [l for f,l in dstest.feats]\n",
    "\n",
    "ranks = getallranks(fs)\n",
    "resmap = calcmap(ranks, lbs)\n",
    "res['p-tsne'].append(resmap)\n",
    "resmap\n",
    "\n",
    "\n",
    "# ===============================================================================================\n",
    "#                    P-UMAP\n",
    "# ===============================================================================================\n",
    "\n",
    "\n",
    "\n",
    "import sys\n",
    "\n",
    "try:\n",
    "    from umap_pytorch import PUMAP\n",
    "except ImportError:\n",
    "    print(\"Pacote 'umap-pytorch' não encontrado. Instalando...\")\n",
    "    import subprocess\n",
    "    subprocess.check_call([sys.executable, \"-m\", \"pip\", \"install\", \"umap-pytorch\"])\n",
    "    from umap_pytorch import PUMAP \n",
    "\n",
    "pumap = PUMAP(\n",
    "        encoder=None,           # nn.Module, None for default\n",
    "        decoder=None,           # nn.Module, True for default, None for encoder only\n",
    "        n_neighbors=10,\n",
    "        min_dist=0.1,\n",
    "        metric=\"euclidean\",\n",
    "        n_components=2,\n",
    "        beta=1.0,               # How much to weigh reconstruction loss for decoder\n",
    "        reconstruction_loss=F.binary_cross_entropy_with_logits, # pass in custom reconstruction loss functions\n",
    "        random_state=None,\n",
    "        lr=1e-3,\n",
    "        epochs=10,\n",
    "        batch_size=64,\n",
    "        num_workers=1,\n",
    "        num_gpus=1,\n",
    "        match_nonparametric_umap=False # Train network to match embeddings from non parametric umap\n",
    ")\n",
    "\n",
    "pumap.fit(torch.stack(trainfs))\n",
    "\n",
    "fs = [f for f, l in dstest.feats]\n",
    "lbs = [l for f, l in dstest.feats]\n",
    "\n",
    "embedding = pumap.transform(torch.stack(fs))\n",
    "\n",
    "ranks = getallranks([torch.tensor(e) for e in embedding])\n",
    "resmap = calcmap(ranks, lbs)\n",
    "res['p-umap'].append(resmap)\n",
    "resmap"
   ]
  },
  {
   "cell_type": "markdown",
   "metadata": {},
   "source": [
    "**FOLD 3**"
   ]
  },
  {
   "cell_type": "code",
   "execution_count": 9,
   "metadata": {},
   "outputs": [
    {
     "name": "stderr",
     "output_type": "stream",
     "text": [
      "/tmp/ipykernel_48042/1903354167.py:2: UserWarning: To copy construct from a tensor, it is recommended to use sourceTensor.clone().detach() or sourceTensor.clone().detach().requires_grad_(True), rather than torch.tensor(sourceTensor).\n",
      "  imgstrain = [torch.tensor(x[idx]) for idx in crossidxs[idfold][0]]\n",
      "/tmp/ipykernel_48042/1903354167.py:5: UserWarning: To copy construct from a tensor, it is recommended to use sourceTensor.clone().detach() or sourceTensor.clone().detach().requires_grad_(True), rather than torch.tensor(sourceTensor).\n",
      "  imgstest = [torch.tensor(x[idx]) for idx in crossidxs[idfold][1]]\n"
     ]
    },
    {
     "name": "stdout",
     "output_type": "stream",
     "text": [
      "Training on cuda\n"
     ]
    },
    {
     "name": "stderr",
     "output_type": "stream",
     "text": [
      "100%|██████████| 8/8 [00:00<00:00, 29.11it/s]"
     ]
    },
    {
     "name": "stdout",
     "output_type": "stream",
     "text": [
      "====> Epoch: 1. Time 0:00:00.275680. Average loss: 10.7773\n"
     ]
    },
    {
     "name": "stderr",
     "output_type": "stream",
     "text": [
      "\n",
      "100%|██████████| 8/8 [00:00<00:00, 16.16it/s]"
     ]
    },
    {
     "name": "stdout",
     "output_type": "stream",
     "text": [
      "====> Epoch: 2. Time 0:00:00.495893. Average loss: 1.0422\n"
     ]
    },
    {
     "name": "stderr",
     "output_type": "stream",
     "text": [
      "\n",
      "100%|██████████| 8/8 [00:00<00:00, 18.16it/s]"
     ]
    },
    {
     "name": "stdout",
     "output_type": "stream",
     "text": [
      "====> Epoch: 3. Time 0:00:00.441106. Average loss: 0.6871\n"
     ]
    },
    {
     "name": "stderr",
     "output_type": "stream",
     "text": [
      "\n",
      "100%|██████████| 8/8 [00:00<00:00, 14.55it/s]"
     ]
    },
    {
     "name": "stdout",
     "output_type": "stream",
     "text": [
      "====> Epoch: 4. Time 0:00:00.550177. Average loss: 0.5127\n"
     ]
    },
    {
     "name": "stderr",
     "output_type": "stream",
     "text": [
      "\n",
      "100%|██████████| 8/8 [00:00<00:00, 14.66it/s]"
     ]
    },
    {
     "name": "stdout",
     "output_type": "stream",
     "text": [
      "====> Epoch: 5. Time 0:00:00.546160. Average loss: 0.4071\n"
     ]
    },
    {
     "name": "stderr",
     "output_type": "stream",
     "text": [
      "\n",
      "100%|██████████| 8/8 [00:00<00:00, 14.54it/s]"
     ]
    },
    {
     "name": "stdout",
     "output_type": "stream",
     "text": [
      "====> Epoch: 6. Time 0:00:00.550799. Average loss: 0.3368\n"
     ]
    },
    {
     "name": "stderr",
     "output_type": "stream",
     "text": [
      "\n",
      "100%|██████████| 8/8 [00:00<00:00, 16.28it/s]"
     ]
    },
    {
     "name": "stdout",
     "output_type": "stream",
     "text": [
      "====> Epoch: 7. Time 0:00:00.492239. Average loss: 0.2865\n"
     ]
    },
    {
     "name": "stderr",
     "output_type": "stream",
     "text": [
      "\n",
      "100%|██████████| 8/8 [00:00<00:00, 15.23it/s]"
     ]
    },
    {
     "name": "stdout",
     "output_type": "stream",
     "text": [
      "====> Epoch: 8. Time 0:00:00.525993. Average loss: 0.2491\n"
     ]
    },
    {
     "name": "stderr",
     "output_type": "stream",
     "text": [
      "\n",
      "100%|██████████| 8/8 [00:00<00:00, 35.15it/s]"
     ]
    },
    {
     "name": "stdout",
     "output_type": "stream",
     "text": [
      "====> Epoch: 9. Time 0:00:00.228223. Average loss: 0.2208\n"
     ]
    },
    {
     "name": "stderr",
     "output_type": "stream",
     "text": [
      "\n",
      "100%|██████████| 8/8 [00:00<00:00, 42.36it/s]"
     ]
    },
    {
     "name": "stdout",
     "output_type": "stream",
     "text": [
      "====> Epoch: 10. Time 0:00:00.189628. Average loss: 0.1978\n",
      "Training time: 0:00:04.297403\n"
     ]
    },
    {
     "name": "stderr",
     "output_type": "stream",
     "text": [
      "\n",
      "GPU available: True (cuda), used: True\n",
      "TPU available: False, using: 0 TPU cores\n",
      "HPU available: False, using: 0 HPUs\n"
     ]
    },
    {
     "name": "stdout",
     "output_type": "stream",
     "text": [
      "Mon Dec 16 13:52:36 2024 Building RP forest with 8 trees\n",
      "Mon Dec 16 13:52:36 2024 NN descent for 12 iterations\n",
      "\t 1  /  12\n",
      "\t 2  /  12\n",
      "\t 3  /  12\n",
      "\t 4  /  12\n",
      "\t 5  /  12\n",
      "\tStopping threshold met -- exiting after 5 iterations\n"
     ]
    },
    {
     "name": "stderr",
     "output_type": "stream",
     "text": [
      "LOCAL_RANK: 0 - CUDA_VISIBLE_DEVICES: [0]\n",
      "\n",
      "  | Name    | Type            | Params | Mode \n",
      "----------------------------------------------------\n",
      "0 | encoder | default_encoder | 388 K  | train\n",
      "----------------------------------------------------\n",
      "388 K     Trainable params\n",
      "0         Non-trainable params\n",
      "388 K     Total params\n",
      "1.553     Total estimated model params size (MB)\n",
      "10        Modules in train mode\n",
      "0         Modules in eval mode\n",
      "/home/de/miniconda3/lib/python3.11/site-packages/pytorch_lightning/trainer/connectors/data_connector.py:424: The 'train_dataloader' does not have many workers which may be a bottleneck. Consider increasing the value of the `num_workers` argument` to `num_workers=23` in the `DataLoader` to improve performance.\n"
     ]
    },
    {
     "data": {
      "application/vnd.jupyter.widget-view+json": {
       "model_id": "a319f090d93240879a0769161c693188",
       "version_major": 2,
       "version_minor": 0
      },
      "text/plain": [
       "Training: |          | 0/? [00:00<?, ?it/s]"
      ]
     },
     "metadata": {},
     "output_type": "display_data"
    },
    {
     "name": "stderr",
     "output_type": "stream",
     "text": [
      "`Trainer.fit` stopped: `max_epochs=10` reached.\n"
     ]
    },
    {
     "name": "stdout",
     "output_type": "stream",
     "text": [
      "Reducing array of shape torch.Size([1000, 1536]) to (1000, 2)\n"
     ]
    },
    {
     "data": {
      "text/plain": [
       "0.756523627896041"
      ]
     },
     "execution_count": 9,
     "metadata": {},
     "output_type": "execute_result"
    }
   ],
   "source": [
    "idfold = 2 # = Fold 2\n",
    "imgstrain = [torch.tensor(x[idx]) for idx in crossidxs[idfold][0]]\n",
    "lbstrain   = [torch.tensor(y[idx]) for idx in crossidxs[idfold][0]]\n",
    "\n",
    "imgstest = [torch.tensor(x[idx]) for idx in crossidxs[idfold][1]]\n",
    "lbstest   = [torch.tensor(y[idx]) for idx in crossidxs[idfold][1]]\n",
    "\n",
    "ds = CustomDataset(imgstrain, lbstrain, None, train_dataset.classes)\n",
    "dstest = CustomDataset(imgstest, lbstest, None, train_dataset.classes)\n",
    "\n",
    "configfeats(ds)\n",
    "configfeats(dstest)\n",
    "\n",
    "from ptsne import train_parametric_tsne_model\n",
    "from ptsne.config import Config\n",
    "from ptsne.ptsne_net import model\n",
    "\n",
    "config = Config()\n",
    "print(f\"Training on {config.dev}\", flush=True)\n",
    "trainfs = [f for f, l in ds.feats]\n",
    "trainlbs = [l for f, l in ds.feats]\n",
    "\n",
    "dim_input = trainfs[0].shape[0]\n",
    "net = model(dim_input).to(device)\n",
    "\n",
    "fs = torch.stack(trainfs).to(device)\n",
    "lbs = torch.tensor(trainlbs)\n",
    "trainset = TensorDataset(fs, lbs)\n",
    "train_parametric_tsne_model(net, trainset, dim_input, config)\n",
    "\n",
    "net.eval()\n",
    "with torch.no_grad():\n",
    "    fs, lbs = [net(f.to(device).unsqueeze(0)).cpu().squeeze() for f,l in dstest.feats], [l for f,l in dstest.feats]\n",
    "\n",
    "ranks = getallranks(fs)\n",
    "resmap = calcmap(ranks, lbs)\n",
    "res['p-tsne'].append(resmap)\n",
    "resmap\n",
    "\n",
    "\n",
    "# ===============================================================================================\n",
    "#                    P-UMAP\n",
    "# ===============================================================================================\n",
    "\n",
    "\n",
    "\n",
    "import sys\n",
    "\n",
    "try:\n",
    "    from umap_pytorch import PUMAP\n",
    "except ImportError:\n",
    "    print(\"Pacote 'umap-pytorch' não encontrado. Instalando...\")\n",
    "    import subprocess\n",
    "    subprocess.check_call([sys.executable, \"-m\", \"pip\", \"install\", \"umap-pytorch\"])\n",
    "    from umap_pytorch import PUMAP \n",
    "\n",
    "pumap = PUMAP(\n",
    "        encoder=None,           # nn.Module, None for default\n",
    "        decoder=None,           # nn.Module, True for default, None for encoder only\n",
    "        n_neighbors=10,\n",
    "        min_dist=0.1,\n",
    "        metric=\"euclidean\",\n",
    "        n_components=2,\n",
    "        beta=1.0,               # How much to weigh reconstruction loss for decoder\n",
    "        reconstruction_loss=F.binary_cross_entropy_with_logits, # pass in custom reconstruction loss functions\n",
    "        random_state=None,\n",
    "        lr=1e-3,\n",
    "        epochs=10,\n",
    "        batch_size=64,\n",
    "        num_workers=1,\n",
    "        num_gpus=1,\n",
    "        match_nonparametric_umap=False # Train network to match embeddings from non parametric umap\n",
    ")\n",
    "\n",
    "pumap.fit(torch.stack(trainfs))\n",
    "\n",
    "fs = [f for f, l in dstest.feats]\n",
    "lbs = [l for f, l in dstest.feats]\n",
    "\n",
    "embedding = pumap.transform(torch.stack(fs))\n",
    "\n",
    "ranks = getallranks([torch.tensor(e) for e in embedding])\n",
    "resmap = calcmap(ranks, lbs)\n",
    "res['p-umap'].append(resmap)\n",
    "resmap"
   ]
  },
  {
   "cell_type": "markdown",
   "metadata": {},
   "source": [
    "**FOLD 4**"
   ]
  },
  {
   "cell_type": "code",
   "execution_count": 10,
   "metadata": {},
   "outputs": [
    {
     "name": "stderr",
     "output_type": "stream",
     "text": [
      "/tmp/ipykernel_48042/1464832672.py:2: UserWarning: To copy construct from a tensor, it is recommended to use sourceTensor.clone().detach() or sourceTensor.clone().detach().requires_grad_(True), rather than torch.tensor(sourceTensor).\n",
      "  imgstrain = [torch.tensor(x[idx]) for idx in crossidxs[idfold][0]]\n",
      "/tmp/ipykernel_48042/1464832672.py:5: UserWarning: To copy construct from a tensor, it is recommended to use sourceTensor.clone().detach() or sourceTensor.clone().detach().requires_grad_(True), rather than torch.tensor(sourceTensor).\n",
      "  imgstest = [torch.tensor(x[idx]) for idx in crossidxs[idfold][1]]\n"
     ]
    },
    {
     "name": "stdout",
     "output_type": "stream",
     "text": [
      "Training on cuda\n"
     ]
    },
    {
     "name": "stderr",
     "output_type": "stream",
     "text": [
      "100%|██████████| 8/8 [00:00<00:00, 42.30it/s]"
     ]
    },
    {
     "name": "stdout",
     "output_type": "stream",
     "text": [
      "====> Epoch: 1. Time 0:00:00.190152. Average loss: 10.7546\n"
     ]
    },
    {
     "name": "stderr",
     "output_type": "stream",
     "text": [
      "\n",
      "100%|██████████| 8/8 [00:00<00:00, 38.93it/s]"
     ]
    },
    {
     "name": "stdout",
     "output_type": "stream",
     "text": [
      "====> Epoch: 2. Time 0:00:00.206160. Average loss: 1.0379\n"
     ]
    },
    {
     "name": "stderr",
     "output_type": "stream",
     "text": [
      "\n",
      "100%|██████████| 8/8 [00:00<00:00, 43.07it/s]"
     ]
    },
    {
     "name": "stdout",
     "output_type": "stream",
     "text": [
      "====> Epoch: 3. Time 0:00:00.186455. Average loss: 0.6820\n"
     ]
    },
    {
     "name": "stderr",
     "output_type": "stream",
     "text": [
      "\n",
      "100%|██████████| 8/8 [00:00<00:00, 14.54it/s]"
     ]
    },
    {
     "name": "stdout",
     "output_type": "stream",
     "text": [
      "====> Epoch: 4. Time 0:00:00.551216. Average loss: 0.5087\n"
     ]
    },
    {
     "name": "stderr",
     "output_type": "stream",
     "text": [
      "\n",
      "100%|██████████| 8/8 [00:00<00:00, 16.37it/s]"
     ]
    },
    {
     "name": "stdout",
     "output_type": "stream",
     "text": [
      "====> Epoch: 5. Time 0:00:00.489256. Average loss: 0.4035\n"
     ]
    },
    {
     "name": "stderr",
     "output_type": "stream",
     "text": [
      "\n",
      "100%|██████████| 8/8 [00:00<00:00, 14.43it/s]"
     ]
    },
    {
     "name": "stdout",
     "output_type": "stream",
     "text": [
      "====> Epoch: 6. Time 0:00:00.554980. Average loss: 0.3337\n"
     ]
    },
    {
     "name": "stderr",
     "output_type": "stream",
     "text": [
      "\n",
      "100%|██████████| 8/8 [00:00<00:00, 18.19it/s]"
     ]
    },
    {
     "name": "stdout",
     "output_type": "stream",
     "text": [
      "====> Epoch: 7. Time 0:00:00.440631. Average loss: 0.2869\n"
     ]
    },
    {
     "name": "stderr",
     "output_type": "stream",
     "text": [
      "\n",
      "100%|██████████| 8/8 [00:00<00:00, 15.47it/s]"
     ]
    },
    {
     "name": "stdout",
     "output_type": "stream",
     "text": [
      "====> Epoch: 8. Time 0:00:00.517799. Average loss: 0.2473\n"
     ]
    },
    {
     "name": "stderr",
     "output_type": "stream",
     "text": [
      "\n",
      "100%|██████████| 8/8 [00:00<00:00, 14.57it/s]"
     ]
    },
    {
     "name": "stdout",
     "output_type": "stream",
     "text": [
      "====> Epoch: 9. Time 0:00:00.549718. Average loss: 0.2205\n"
     ]
    },
    {
     "name": "stderr",
     "output_type": "stream",
     "text": [
      "\n",
      "100%|██████████| 8/8 [00:00<00:00, 15.93it/s]"
     ]
    },
    {
     "name": "stdout",
     "output_type": "stream",
     "text": [
      "====> Epoch: 10. Time 0:00:00.502915. Average loss: 0.1968\n",
      "Training time: 0:00:04.191197\n"
     ]
    },
    {
     "name": "stderr",
     "output_type": "stream",
     "text": [
      "\n",
      "GPU available: True (cuda), used: True\n",
      "TPU available: False, using: 0 TPU cores\n",
      "HPU available: False, using: 0 HPUs\n"
     ]
    },
    {
     "name": "stdout",
     "output_type": "stream",
     "text": [
      "Mon Dec 16 13:54:58 2024 Building RP forest with 8 trees\n",
      "Mon Dec 16 13:54:58 2024 NN descent for 12 iterations\n",
      "\t 1  /  12\n",
      "\t 2  /  12\n",
      "\t 3  /  12\n",
      "\t 4  /  12\n",
      "\t 5  /  12\n",
      "\tStopping threshold met -- exiting after 5 iterations\n"
     ]
    },
    {
     "name": "stderr",
     "output_type": "stream",
     "text": [
      "LOCAL_RANK: 0 - CUDA_VISIBLE_DEVICES: [0]\n",
      "\n",
      "  | Name    | Type            | Params | Mode \n",
      "----------------------------------------------------\n",
      "0 | encoder | default_encoder | 388 K  | train\n",
      "----------------------------------------------------\n",
      "388 K     Trainable params\n",
      "0         Non-trainable params\n",
      "388 K     Total params\n",
      "1.553     Total estimated model params size (MB)\n",
      "10        Modules in train mode\n",
      "0         Modules in eval mode\n",
      "/home/de/miniconda3/lib/python3.11/site-packages/pytorch_lightning/trainer/connectors/data_connector.py:424: The 'train_dataloader' does not have many workers which may be a bottleneck. Consider increasing the value of the `num_workers` argument` to `num_workers=23` in the `DataLoader` to improve performance.\n"
     ]
    },
    {
     "data": {
      "application/vnd.jupyter.widget-view+json": {
       "model_id": "271c976ff1eb4dc380c1f802e6d39364",
       "version_major": 2,
       "version_minor": 0
      },
      "text/plain": [
       "Training: |          | 0/? [00:00<?, ?it/s]"
      ]
     },
     "metadata": {},
     "output_type": "display_data"
    },
    {
     "name": "stderr",
     "output_type": "stream",
     "text": [
      "`Trainer.fit` stopped: `max_epochs=10` reached.\n"
     ]
    },
    {
     "name": "stdout",
     "output_type": "stream",
     "text": [
      "Reducing array of shape torch.Size([1000, 1536]) to (1000, 2)\n"
     ]
    },
    {
     "data": {
      "text/plain": [
       "0.7708977967677211"
      ]
     },
     "execution_count": 10,
     "metadata": {},
     "output_type": "execute_result"
    }
   ],
   "source": [
    "idfold = 3 # = Fold 2\n",
    "imgstrain = [torch.tensor(x[idx]) for idx in crossidxs[idfold][0]]\n",
    "lbstrain   = [torch.tensor(y[idx]) for idx in crossidxs[idfold][0]]\n",
    "\n",
    "imgstest = [torch.tensor(x[idx]) for idx in crossidxs[idfold][1]]\n",
    "lbstest   = [torch.tensor(y[idx]) for idx in crossidxs[idfold][1]]\n",
    "\n",
    "ds = CustomDataset(imgstrain, lbstrain, None, train_dataset.classes)\n",
    "dstest = CustomDataset(imgstest, lbstest, None, train_dataset.classes)\n",
    "\n",
    "configfeats(ds)\n",
    "configfeats(dstest)\n",
    "\n",
    "from ptsne import train_parametric_tsne_model\n",
    "from ptsne.config import Config\n",
    "from ptsne.ptsne_net import model\n",
    "\n",
    "config = Config()\n",
    "print(f\"Training on {config.dev}\", flush=True)\n",
    "trainfs = [f for f, l in ds.feats]\n",
    "trainlbs = [l for f, l in ds.feats]\n",
    "\n",
    "dim_input = trainfs[0].shape[0]\n",
    "net = model(dim_input).to(device)\n",
    "\n",
    "fs = torch.stack(trainfs).to(device)\n",
    "lbs = torch.tensor(trainlbs)\n",
    "trainset = TensorDataset(fs, lbs)\n",
    "train_parametric_tsne_model(net, trainset, dim_input, config)\n",
    "\n",
    "net.eval()\n",
    "with torch.no_grad():\n",
    "    fs, lbs = [net(f.to(device).unsqueeze(0)).cpu().squeeze() for f,l in dstest.feats], [l for f,l in dstest.feats]\n",
    "\n",
    "ranks = getallranks(fs)\n",
    "resmap = calcmap(ranks, lbs)\n",
    "res['p-tsne'].append(resmap)\n",
    "resmap\n",
    "\n",
    "# ===============================================================================================\n",
    "#                    P-UMAP\n",
    "# ===============================================================================================\n",
    "\n",
    "pumap = PUMAP(\n",
    "        encoder=None,           # nn.Module, None for default\n",
    "        decoder=None,           # nn.Module, True for default, None for encoder only\n",
    "        n_neighbors=10,\n",
    "        min_dist=0.1,\n",
    "        metric=\"euclidean\",\n",
    "        n_components=2,\n",
    "        beta=1.0,               # How much to weigh reconstruction loss for decoder\n",
    "        reconstruction_loss=F.binary_cross_entropy_with_logits, # pass in custom reconstruction loss functions\n",
    "        random_state=None,\n",
    "        lr=1e-3,\n",
    "        epochs=10,\n",
    "        batch_size=64,\n",
    "        num_workers=1,\n",
    "        num_gpus=1,\n",
    "        match_nonparametric_umap=False # Train network to match embeddings from non parametric umap\n",
    ")\n",
    "\n",
    "pumap.fit(torch.stack(trainfs))\n",
    "\n",
    "fs = [f for f, l in dstest.feats]\n",
    "lbs = [l for f, l in dstest.feats]\n",
    "\n",
    "embedding = pumap.transform(torch.stack(fs))\n",
    "\n",
    "ranks = getallranks([torch.tensor(e) for e in embedding])\n",
    "resmap = calcmap(ranks, lbs)\n",
    "res['p-umap'].append(resmap)\n",
    "resmap"
   ]
  },
  {
   "cell_type": "markdown",
   "metadata": {},
   "source": [
    "**FOLD 5**"
   ]
  },
  {
   "cell_type": "code",
   "execution_count": 11,
   "metadata": {},
   "outputs": [
    {
     "name": "stderr",
     "output_type": "stream",
     "text": [
      "/tmp/ipykernel_48042/897998413.py:2: UserWarning: To copy construct from a tensor, it is recommended to use sourceTensor.clone().detach() or sourceTensor.clone().detach().requires_grad_(True), rather than torch.tensor(sourceTensor).\n",
      "  imgstrain = [torch.tensor(x[idx]) for idx in crossidxs[idfold][0]]\n",
      "/tmp/ipykernel_48042/897998413.py:5: UserWarning: To copy construct from a tensor, it is recommended to use sourceTensor.clone().detach() or sourceTensor.clone().detach().requires_grad_(True), rather than torch.tensor(sourceTensor).\n",
      "  imgstest = [torch.tensor(x[idx]) for idx in crossidxs[idfold][1]]\n"
     ]
    },
    {
     "name": "stdout",
     "output_type": "stream",
     "text": [
      "Training on cuda\n"
     ]
    },
    {
     "name": "stderr",
     "output_type": "stream",
     "text": [
      "100%|██████████| 8/8 [00:00<00:00, 23.45it/s]"
     ]
    },
    {
     "name": "stdout",
     "output_type": "stream",
     "text": [
      "====> Epoch: 1. Time 0:00:00.341812. Average loss: 10.7658\n"
     ]
    },
    {
     "name": "stderr",
     "output_type": "stream",
     "text": [
      "\n",
      "100%|██████████| 8/8 [00:00<00:00, 14.52it/s]"
     ]
    },
    {
     "name": "stdout",
     "output_type": "stream",
     "text": [
      "====> Epoch: 2. Time 0:00:00.551593. Average loss: 1.0413\n"
     ]
    },
    {
     "name": "stderr",
     "output_type": "stream",
     "text": [
      "\n",
      "100%|██████████| 8/8 [00:00<00:00, 15.34it/s]"
     ]
    },
    {
     "name": "stdout",
     "output_type": "stream",
     "text": [
      "====> Epoch: 3. Time 0:00:00.522175. Average loss: 0.6847\n"
     ]
    },
    {
     "name": "stderr",
     "output_type": "stream",
     "text": [
      "\n",
      "100%|██████████| 8/8 [00:00<00:00, 15.23it/s]"
     ]
    },
    {
     "name": "stdout",
     "output_type": "stream",
     "text": [
      "====> Epoch: 4. Time 0:00:00.525825. Average loss: 0.5097\n"
     ]
    },
    {
     "name": "stderr",
     "output_type": "stream",
     "text": [
      "\n",
      "100%|██████████| 8/8 [00:00<00:00, 15.22it/s]"
     ]
    },
    {
     "name": "stdout",
     "output_type": "stream",
     "text": [
      "====> Epoch: 5. Time 0:00:00.526288. Average loss: 0.4044\n"
     ]
    },
    {
     "name": "stderr",
     "output_type": "stream",
     "text": [
      "\n",
      "100%|██████████| 8/8 [00:00<00:00, 15.34it/s]"
     ]
    },
    {
     "name": "stdout",
     "output_type": "stream",
     "text": [
      "====> Epoch: 6. Time 0:00:00.522300. Average loss: 0.3367\n"
     ]
    },
    {
     "name": "stderr",
     "output_type": "stream",
     "text": [
      "\n",
      "100%|██████████| 8/8 [00:00<00:00, 14.58it/s]"
     ]
    },
    {
     "name": "stdout",
     "output_type": "stream",
     "text": [
      "====> Epoch: 7. Time 0:00:00.549133. Average loss: 0.2851\n"
     ]
    },
    {
     "name": "stderr",
     "output_type": "stream",
     "text": [
      "\n",
      "100%|██████████| 8/8 [00:00<00:00, 14.50it/s]"
     ]
    },
    {
     "name": "stdout",
     "output_type": "stream",
     "text": [
      "====> Epoch: 8. Time 0:00:00.552501. Average loss: 0.2483\n"
     ]
    },
    {
     "name": "stderr",
     "output_type": "stream",
     "text": [
      "\n",
      "100%|██████████| 8/8 [00:00<00:00, 15.30it/s]"
     ]
    },
    {
     "name": "stdout",
     "output_type": "stream",
     "text": [
      "====> Epoch: 9. Time 0:00:00.523373. Average loss: 0.2206\n"
     ]
    },
    {
     "name": "stderr",
     "output_type": "stream",
     "text": [
      "\n",
      "100%|██████████| 8/8 [00:00<00:00, 15.26it/s]"
     ]
    },
    {
     "name": "stdout",
     "output_type": "stream",
     "text": [
      "====> Epoch: 10. Time 0:00:00.525140. Average loss: 0.1971\n",
      "Training time: 0:00:05.141862\n"
     ]
    },
    {
     "name": "stderr",
     "output_type": "stream",
     "text": [
      "\n",
      "GPU available: True (cuda), used: True\n",
      "TPU available: False, using: 0 TPU cores\n",
      "HPU available: False, using: 0 HPUs\n"
     ]
    },
    {
     "name": "stdout",
     "output_type": "stream",
     "text": [
      "Mon Dec 16 13:57:22 2024 Building RP forest with 8 trees\n",
      "Mon Dec 16 13:57:22 2024 NN descent for 12 iterations\n",
      "\t 1  /  12\n",
      "\t 2  /  12\n",
      "\t 3  /  12\n",
      "\t 4  /  12\n",
      "\t 5  /  12\n"
     ]
    },
    {
     "name": "stderr",
     "output_type": "stream",
     "text": [
      "LOCAL_RANK: 0 - CUDA_VISIBLE_DEVICES: [0]\n",
      "\n",
      "  | Name    | Type            | Params | Mode \n",
      "----------------------------------------------------\n",
      "0 | encoder | default_encoder | 388 K  | train\n",
      "----------------------------------------------------\n",
      "388 K     Trainable params\n",
      "0         Non-trainable params\n",
      "388 K     Total params\n",
      "1.553     Total estimated model params size (MB)\n",
      "10        Modules in train mode\n",
      "0         Modules in eval mode\n"
     ]
    },
    {
     "name": "stdout",
     "output_type": "stream",
     "text": [
      "\tStopping threshold met -- exiting after 5 iterations\n"
     ]
    },
    {
     "name": "stderr",
     "output_type": "stream",
     "text": [
      "/home/de/miniconda3/lib/python3.11/site-packages/pytorch_lightning/trainer/connectors/data_connector.py:424: The 'train_dataloader' does not have many workers which may be a bottleneck. Consider increasing the value of the `num_workers` argument` to `num_workers=23` in the `DataLoader` to improve performance.\n"
     ]
    },
    {
     "data": {
      "application/vnd.jupyter.widget-view+json": {
       "model_id": "6b1c23e325ea43f495ca51d1ebb72885",
       "version_major": 2,
       "version_minor": 0
      },
      "text/plain": [
       "Training: |          | 0/? [00:00<?, ?it/s]"
      ]
     },
     "metadata": {},
     "output_type": "display_data"
    },
    {
     "name": "stderr",
     "output_type": "stream",
     "text": [
      "`Trainer.fit` stopped: `max_epochs=10` reached.\n"
     ]
    },
    {
     "name": "stdout",
     "output_type": "stream",
     "text": [
      "Reducing array of shape torch.Size([1000, 1536]) to (1000, 2)\n"
     ]
    },
    {
     "data": {
      "text/plain": [
       "0.7333682011817924"
      ]
     },
     "execution_count": 11,
     "metadata": {},
     "output_type": "execute_result"
    }
   ],
   "source": [
    "idfold = 4 # = Fold 2\n",
    "imgstrain = [torch.tensor(x[idx]) for idx in crossidxs[idfold][0]]\n",
    "lbstrain   = [torch.tensor(y[idx]) for idx in crossidxs[idfold][0]]\n",
    "\n",
    "imgstest = [torch.tensor(x[idx]) for idx in crossidxs[idfold][1]]\n",
    "lbstest   = [torch.tensor(y[idx]) for idx in crossidxs[idfold][1]]\n",
    "\n",
    "ds = CustomDataset(imgstrain, lbstrain, None, train_dataset.classes)\n",
    "dstest = CustomDataset(imgstest, lbstest, None, train_dataset.classes)\n",
    "\n",
    "configfeats(ds)\n",
    "configfeats(dstest)\n",
    "\n",
    "from ptsne import train_parametric_tsne_model\n",
    "from ptsne.config import Config\n",
    "from ptsne.ptsne_net import model\n",
    "\n",
    "config = Config()\n",
    "print(f\"Training on {config.dev}\", flush=True)\n",
    "trainfs = [f for f, l in ds.feats]\n",
    "trainlbs = [l for f, l in ds.feats]\n",
    "\n",
    "dim_input = trainfs[0].shape[0]\n",
    "net = model(dim_input).to(device)\n",
    "\n",
    "fs = torch.stack(trainfs).to(device)\n",
    "lbs = torch.tensor(trainlbs)\n",
    "trainset = TensorDataset(fs, lbs)\n",
    "train_parametric_tsne_model(net, trainset, dim_input, config)\n",
    "\n",
    "net.eval()\n",
    "with torch.no_grad():\n",
    "    fs, lbs = [net(f.to(device).unsqueeze(0)).cpu().squeeze() for f,l in dstest.feats], [l for f,l in dstest.feats]\n",
    "\n",
    "ranks = getallranks(fs)\n",
    "resmap = calcmap(ranks, lbs)\n",
    "res['p-tsne'].append(resmap)\n",
    "resmap\n",
    "\n",
    "# ===============================================================================================\n",
    "#                    P-UMAP\n",
    "# ===============================================================================================\n",
    "\n",
    "pumap = PUMAP(\n",
    "        encoder=None,           # nn.Module, None for default\n",
    "        decoder=None,           # nn.Module, True for default, None for encoder only\n",
    "        n_neighbors=10,\n",
    "        min_dist=0.1,\n",
    "        metric=\"euclidean\",\n",
    "        n_components=2,\n",
    "        beta=1.0,               # How much to weigh reconstruction loss for decoder\n",
    "        reconstruction_loss=F.binary_cross_entropy_with_logits, # pass in custom reconstruction loss functions\n",
    "        random_state=None,\n",
    "        lr=1e-3,\n",
    "        epochs=10,\n",
    "        batch_size=64,\n",
    "        num_workers=1,\n",
    "        num_gpus=1,\n",
    "        match_nonparametric_umap=False # Train network to match embeddings from non parametric umap\n",
    ")\n",
    "\n",
    "pumap.fit(torch.stack(trainfs))\n",
    "\n",
    "fs = [f for f, l in dstest.feats]\n",
    "lbs = [l for f, l in dstest.feats]\n",
    "\n",
    "embedding = pumap.transform(torch.stack(fs))\n",
    "\n",
    "ranks = getallranks([torch.tensor(e) for e in embedding])\n",
    "resmap = calcmap(ranks, lbs)\n",
    "res['p-umap'].append(resmap)\n",
    "resmap"
   ]
  },
  {
   "cell_type": "markdown",
   "metadata": {},
   "source": [
    "**Resultados**"
   ]
  },
  {
   "cell_type": "code",
   "execution_count": 12,
   "metadata": {},
   "outputs": [
    {
     "data": {
      "text/plain": [
       "{'p-tsne': [0.6876902362614375,\n",
       "  0.6518689380449187,\n",
       "  0.6913980211699947,\n",
       "  0.7171410431300258,\n",
       "  0.6972573733708926],\n",
       " 'p-umap': [0.716935991173991,\n",
       "  0.716537947315647,\n",
       "  0.756523627896041,\n",
       "  0.7708977967677211,\n",
       "  0.7333682011817924]}"
      ]
     },
     "execution_count": 12,
     "metadata": {},
     "output_type": "execute_result"
    }
   ],
   "source": [
    "res"
   ]
  },
  {
   "cell_type": "code",
   "execution_count": 13,
   "metadata": {},
   "outputs": [
    {
     "data": {
      "text/plain": [
       "[{'p-tsne': 0.6890711223954539}, {'p-umap': 0.7388527128670385}]"
      ]
     },
     "execution_count": 13,
     "metadata": {},
     "output_type": "execute_result"
    }
   ],
   "source": [
    "[{r: np.mean(res[r]) } for r in res]"
   ]
  }
 ],
 "metadata": {
  "kernelspec": {
   "display_name": "base",
   "language": "python",
   "name": "python3"
  },
  "language_info": {
   "codemirror_mode": {
    "name": "ipython",
    "version": 3
   },
   "file_extension": ".py",
   "mimetype": "text/x-python",
   "name": "python",
   "nbconvert_exporter": "python",
   "pygments_lexer": "ipython3",
   "version": "3.11.5"
  },
  "orig_nbformat": 4
 },
 "nbformat": 4,
 "nbformat_minor": 2
}
