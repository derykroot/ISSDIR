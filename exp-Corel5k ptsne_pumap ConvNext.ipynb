{
 "cells": [
  {
   "cell_type": "code",
   "execution_count": 3,
   "metadata": {},
   "outputs": [
    {
     "name": "stdout",
     "output_type": "stream",
     "text": [
      "Using device: True NVIDIA GeForce RTX 4090\n"
     ]
    }
   ],
   "source": [
    "import matplotlib.pyplot as plt\n",
    "import numpy as np\n",
    "import random\n",
    "from PIL import Image  \n",
    "import time\n",
    "\n",
    "import torchvision\n",
    "import torchvision.transforms as transforms\n",
    "import torchvision.utils\n",
    "import torch\n",
    "import torch.nn as nn\n",
    "import torch.nn.functional as F\n",
    "from torch import optim\n",
    "\n",
    "from utils import toumap, totsne, plotsmart\n",
    "from utils import getallranks, calcmap\n",
    "from utils import bestk_silhouette_score, getclusters_ws\n",
    "\n",
    "from dataset import CustomDataset, DatasetFeatsTrain, dsbuild\n",
    "from model import netmodel\n",
    "from loss import HybridLoss\n",
    "\n",
    "device = torch.device(\"cuda\" if torch.cuda.is_available() else \"cpu\") \n",
    "\n",
    "print('Using device:', torch.cuda.is_available(), torch.cuda.get_device_name(0))"
   ]
  },
  {
   "cell_type": "markdown",
   "metadata": {},
   "source": [
    "# Feature Extraction"
   ]
  },
  {
   "cell_type": "markdown",
   "metadata": {},
   "source": [
    "**Pre-traineded models**"
   ]
  },
  {
   "cell_type": "code",
   "execution_count": 4,
   "metadata": {},
   "outputs": [],
   "source": [
    "from timm import create_model\n",
    "import timm\n",
    "\n",
    "# timm.list_models(\"*convnex*\", pretrained=True)\n",
    "netfeat = create_model(\"convnext_xxlarge.clip_laion2b_soup_ft_in12k\", pretrained=True).to(device)\n",
    "netfeat.head.fc = torch.nn.Identity()\n",
    "netfeat.to(device)\n",
    "netfeat.eval()\n",
    "\n",
    "def getfeat(x):\n",
    "    with torch.no_grad():\n",
    "        X = netfeat(x)\n",
    "    return X   "
   ]
  },
  {
   "cell_type": "code",
   "execution_count": 5,
   "metadata": {},
   "outputs": [],
   "source": [
    "class ConvertTo3Channels:\n",
    "    def __call__(self, img):\n",
    "        # Se a imagem já tiver 3 canais, retorne-a como está\n",
    "        if img.mode == \"RGB\":\n",
    "            return img\n",
    "        # Caso contrário, converta-a para RGB\n",
    "        return img.convert(\"RGB\")\n",
    "    \n",
    "transform = transforms.Compose(\n",
    "    [\n",
    "        ConvertTo3Channels(),\n",
    "        transforms.Resize((224, 224), transforms.InterpolationMode.BICUBIC),\n",
    "        transforms.ToTensor()\n",
    "    ]\n",
    ")\n",
    "\n",
    "def configfeats(ds):\n",
    "    with torch.no_grad():\n",
    "        ds.feats = [[getfeat(d.unsqueeze(0).to(device))[0].cpu(), l] for d, l in ds]\n",
    "\n",
    "train_dataset = dsbuild('/home/de/lab/ds/corel5k', transform=transform)\n"
   ]
  },
  {
   "cell_type": "code",
   "execution_count": 6,
   "metadata": {},
   "outputs": [
    {
     "name": "stderr",
     "output_type": "stream",
     "text": [
      "/tmp/ipykernel_90722/277675855.py:9: UserWarning: To copy construct from a tensor, it is recommended to use sourceTensor.clone().detach() or sourceTensor.clone().detach().requires_grad_(True), rather than torch.tensor(sourceTensor).\n",
      "  imgstrain = [torch.tensor(x[idx]) for idx in crossidxs[0][0]]\n",
      "/tmp/ipykernel_90722/277675855.py:12: UserWarning: To copy construct from a tensor, it is recommended to use sourceTensor.clone().detach() or sourceTensor.clone().detach().requires_grad_(True), rather than torch.tensor(sourceTensor).\n",
      "  imgstest = [torch.tensor(x[idx]) for idx in crossidxs[0][1]]\n"
     ]
    },
    {
     "data": {
      "text/plain": [
       "4000"
      ]
     },
     "execution_count": 6,
     "metadata": {},
     "output_type": "execute_result"
    }
   ],
   "source": [
    "from sklearn.model_selection import StratifiedKFold\n",
    "\n",
    "n_folds = 5 # ou seja um quinto (20/80), vai treinar com 20% e validar o resto, mas com todas as partes, retornando 5 resultados, e depois obter uma média\n",
    "stratified_kfold = StratifiedKFold(n_splits=n_folds, shuffle=True)\n",
    "x, y = [ d for d,_ in train_dataset], train_dataset.targets\n",
    "\n",
    "crossidxs = [[idxtrain, idxtest] for idxtrain, idxtest in stratified_kfold.split(x, y)]\n",
    "\n",
    "imgstrain = [torch.tensor(x[idx]) for idx in crossidxs[0][0]]\n",
    "lbstrain   = [torch.tensor(y[idx]) for idx in crossidxs[0][0]]\n",
    "\n",
    "imgstest = [torch.tensor(x[idx]) for idx in crossidxs[0][1]]\n",
    "lbstest   = [torch.tensor(y[idx]) for idx in crossidxs[0][1]]\n",
    "\n",
    "ds = CustomDataset(imgstrain, lbstrain, None, train_dataset.classes)\n",
    "dstest = CustomDataset(imgstest, lbstest, None, train_dataset.classes)\n",
    "\n",
    "configfeats(ds)\n",
    "configfeats(dstest)\n",
    "len(ds.data)"
   ]
  },
  {
   "cell_type": "code",
   "execution_count": 7,
   "metadata": {},
   "outputs": [],
   "source": [
    "res = {}\n",
    "res['p-tsne'] = []\n",
    "res['p-umap'] = []"
   ]
  },
  {
   "cell_type": "markdown",
   "metadata": {},
   "source": [
    "**FOLD 1**"
   ]
  },
  {
   "cell_type": "markdown",
   "metadata": {},
   "source": [
    "**P-TSNE**"
   ]
  },
  {
   "cell_type": "code",
   "execution_count": 8,
   "metadata": {},
   "outputs": [
    {
     "name": "stdout",
     "output_type": "stream",
     "text": [
      "Training on cuda\n"
     ]
    },
    {
     "name": "stderr",
     "output_type": "stream",
     "text": [
      "100%|██████████| 8/8 [00:00<00:00, 37.84it/s]"
     ]
    },
    {
     "name": "stdout",
     "output_type": "stream",
     "text": [
      "====> Epoch: 1. Time 0:00:00.212405. Average loss: 10.3963\n"
     ]
    },
    {
     "name": "stderr",
     "output_type": "stream",
     "text": [
      "\n",
      "100%|██████████| 8/8 [00:00<00:00, 38.72it/s]"
     ]
    },
    {
     "name": "stdout",
     "output_type": "stream",
     "text": [
      "====> Epoch: 2. Time 0:00:00.207202. Average loss: 0.9797\n"
     ]
    },
    {
     "name": "stderr",
     "output_type": "stream",
     "text": [
      "\n",
      "100%|██████████| 8/8 [00:00<00:00, 38.21it/s]"
     ]
    },
    {
     "name": "stdout",
     "output_type": "stream",
     "text": [
      "====> Epoch: 3. Time 0:00:00.209885. Average loss: 0.6453\n"
     ]
    },
    {
     "name": "stderr",
     "output_type": "stream",
     "text": [
      "\n",
      "100%|██████████| 8/8 [00:00<00:00, 14.78it/s]"
     ]
    },
    {
     "name": "stdout",
     "output_type": "stream",
     "text": [
      "====> Epoch: 4. Time 0:00:00.541929. Average loss: 0.4798\n"
     ]
    },
    {
     "name": "stderr",
     "output_type": "stream",
     "text": [
      "\n",
      "100%|██████████| 8/8 [00:00<00:00, 14.74it/s]"
     ]
    },
    {
     "name": "stdout",
     "output_type": "stream",
     "text": [
      "====> Epoch: 5. Time 0:00:00.543503. Average loss: 0.3791\n"
     ]
    },
    {
     "name": "stderr",
     "output_type": "stream",
     "text": [
      "\n",
      "100%|██████████| 8/8 [00:00<00:00, 16.86it/s]"
     ]
    },
    {
     "name": "stdout",
     "output_type": "stream",
     "text": [
      "====> Epoch: 6. Time 0:00:00.475247. Average loss: 0.3130\n"
     ]
    },
    {
     "name": "stderr",
     "output_type": "stream",
     "text": [
      "\n",
      "100%|██████████| 8/8 [00:00<00:00, 15.02it/s]"
     ]
    },
    {
     "name": "stdout",
     "output_type": "stream",
     "text": [
      "====> Epoch: 7. Time 0:00:00.533271. Average loss: 0.2680\n"
     ]
    },
    {
     "name": "stderr",
     "output_type": "stream",
     "text": [
      "\n",
      "100%|██████████| 8/8 [00:00<00:00, 14.82it/s]"
     ]
    },
    {
     "name": "stdout",
     "output_type": "stream",
     "text": [
      "====> Epoch: 8. Time 0:00:00.540436. Average loss: 0.2326\n"
     ]
    },
    {
     "name": "stderr",
     "output_type": "stream",
     "text": [
      "\n",
      "100%|██████████| 8/8 [00:00<00:00, 14.71it/s]"
     ]
    },
    {
     "name": "stdout",
     "output_type": "stream",
     "text": [
      "====> Epoch: 9. Time 0:00:00.544344. Average loss: 0.2062\n"
     ]
    },
    {
     "name": "stderr",
     "output_type": "stream",
     "text": [
      "\n",
      "100%|██████████| 8/8 [00:00<00:00, 16.64it/s]"
     ]
    },
    {
     "name": "stdout",
     "output_type": "stream",
     "text": [
      "====> Epoch: 10. Time 0:00:00.481342. Average loss: 0.1835\n",
      "Training time: 0:00:04.291108\n"
     ]
    },
    {
     "name": "stderr",
     "output_type": "stream",
     "text": [
      "\n",
      "No artists with labels found to put in legend.  Note that artists whose label start with an underscore are ignored when legend() is called with no argument.\n"
     ]
    },
    {
     "data": {
      "image/png": "[encoded data removed]",
      "text/plain": [
       "<Figure size 640x480 with 1 Axes>"
      ]
     },
     "metadata": {},
     "output_type": "display_data"
    },
    {
     "data": {
      "text/plain": [
       "0.7027296666104412"
      ]
     },
     "execution_count": 8,
     "metadata": {},
     "output_type": "execute_result"
    }
   ],
   "source": [
    "from torch.utils.data import TensorDataset\n",
    "from ptsne import train_parametric_tsne_model\n",
    "from ptsne.config import Config\n",
    "from ptsne.ptsne_net import model\n",
    "\n",
    "config = Config()\n",
    "print(f\"Training on {config.dev}\", flush=True)\n",
    "trainfs = [f for f, l in ds.feats]\n",
    "trainlbs = [l for f, l in ds.feats]\n",
    "\n",
    "dim_input = trainfs[0].shape[0]\n",
    "net = model(dim_input).to(device)\n",
    "\n",
    "fs = torch.stack(trainfs).to(device)\n",
    "lbs = torch.tensor(trainlbs)\n",
    "trainset = TensorDataset(fs, lbs)\n",
    "train_parametric_tsne_model(net, trainset, dim_input, config)\n",
    "\n",
    "net.eval()\n",
    "with torch.no_grad():\n",
    "    fs, lbs = [net(f.to(device).unsqueeze(0)).cpu().squeeze() for f,l in dstest.feats], [l for f,l in dstest.feats]\n",
    "\n",
    "plotsmart(np.array(fs), lbs, \"Embeddings\", True)\n",
    "\n",
    "ranks = getallranks(fs)\n",
    "resmap = calcmap(ranks, lbs)\n",
    "res['p-tsne'].append(resmap)\n",
    "resmap"
   ]
  },
  {
   "cell_type": "markdown",
   "metadata": {},
   "source": [
    "**P-UMAP**"
   ]
  },
  {
   "cell_type": "code",
   "execution_count": 9,
   "metadata": {},
   "outputs": [
    {
     "name": "stderr",
     "output_type": "stream",
     "text": [
      "GPU available: True (cuda), used: True\n",
      "TPU available: False, using: 0 TPU cores\n",
      "HPU available: False, using: 0 HPUs\n"
     ]
    },
    {
     "name": "stdout",
     "output_type": "stream",
     "text": [
      "Mon Dec 16 19:14:20 2024 Building RP forest with 8 trees\n",
      "Mon Dec 16 19:14:21 2024 NN descent for 12 iterations\n",
      "\t 1  /  12\n",
      "\t 2  /  12\n",
      "\t 3  /  12\n",
      "\t 4  /  12\n",
      "\t 5  /  12\n",
      "\tStopping threshold met -- exiting after 5 iterations\n"
     ]
    },
    {
     "name": "stderr",
     "output_type": "stream",
     "text": [
      "You are using a CUDA device ('NVIDIA GeForce RTX 4090') that has Tensor Cores. To properly utilize them, you should set `torch.set_float32_matmul_precision('medium' | 'high')` which will trade-off precision for performance. For more details, read https://pytorch.org/docs/stable/generated/torch.set_float32_matmul_precision.html#torch.set_float32_matmul_precision\n",
      "LOCAL_RANK: 0 - CUDA_VISIBLE_DEVICES: [0]\n",
      "\n",
      "  | Name    | Type            | Params | Mode \n",
      "----------------------------------------------------\n",
      "0 | encoder | default_encoder | 695 K  | train\n",
      "----------------------------------------------------\n",
      "695 K     Trainable params\n",
      "0         Non-trainable params\n",
      "695 K     Total params\n",
      "2.782     Total estimated model params size (MB)\n",
      "10        Modules in train mode\n",
      "0         Modules in eval mode\n",
      "/home/de/miniconda3/lib/python3.11/site-packages/pytorch_lightning/trainer/connectors/data_connector.py:424: The 'train_dataloader' does not have many workers which may be a bottleneck. Consider increasing the value of the `num_workers` argument` to `num_workers=23` in the `DataLoader` to improve performance.\n"
     ]
    },
    {
     "data": {
      "application/vnd.jupyter.widget-view+json": {
       "model_id": "1a7fa002e8db47b394d41d13b429a99a",
       "version_major": 2,
       "version_minor": 0
      },
      "text/plain": [
       "Training: |          | 0/? [00:00<?, ?it/s]"
      ]
     },
     "metadata": {},
     "output_type": "display_data"
    },
    {
     "name": "stderr",
     "output_type": "stream",
     "text": [
      "`Trainer.fit` stopped: `max_epochs=10` reached.\n",
      "No artists with labels found to put in legend.  Note that artists whose label start with an underscore are ignored when legend() is called with no argument.\n"
     ]
    },
    {
     "name": "stdout",
     "output_type": "stream",
     "text": [
      "Reducing array of shape torch.Size([1000, 3072]) to (1000, 2)\n"
     ]
    },
    {
     "data": {
      "image/png": "[encoded data removed]",
      "text/plain": [
       "<Figure size 640x480 with 1 Axes>"
      ]
     },
     "metadata": {},
     "output_type": "display_data"
    },
    {
     "data": {
      "text/plain": [
       "0.7811039688222884"
      ]
     },
     "execution_count": 9,
     "metadata": {},
     "output_type": "execute_result"
    }
   ],
   "source": [
    "import sys\n",
    "\n",
    "try:\n",
    "    from umap_pytorch import PUMAP\n",
    "except ImportError:\n",
    "    print(\"Pacote 'umap-pytorch' não encontrado. Instalando...\")\n",
    "    import subprocess\n",
    "    subprocess.check_call([sys.executable, \"-m\", \"pip\", \"install\", \"umap-pytorch\"])\n",
    "    from umap_pytorch import PUMAP \n",
    "\n",
    "pumap = PUMAP(\n",
    "        encoder=None,           # nn.Module, None for default\n",
    "        decoder=None,           # nn.Module, True for default, None for encoder only\n",
    "        n_neighbors=10,\n",
    "        min_dist=0.1,\n",
    "        metric=\"euclidean\",\n",
    "        n_components=2,\n",
    "        beta=1.0,               # How much to weigh reconstruction loss for decoder\n",
    "        reconstruction_loss=F.binary_cross_entropy_with_logits, # pass in custom reconstruction loss functions\n",
    "        random_state=None,\n",
    "        lr=1e-3,\n",
    "        epochs=10,\n",
    "        batch_size=64,\n",
    "        num_workers=1,\n",
    "        num_gpus=1,\n",
    "        match_nonparametric_umap=False # Train network to match embeddings from non parametric umap\n",
    ")\n",
    "\n",
    "pumap.fit(torch.stack(trainfs))\n",
    "\n",
    "fs = [f for f, l in dstest.feats]\n",
    "lbs = [l for f, l in dstest.feats]\n",
    "\n",
    "embedding = pumap.transform(torch.stack(fs))\n",
    "plotsmart(embedding, lbs, \"Embeddings\", True)\n",
    "\n",
    "ranks = getallranks([torch.tensor(e) for e in embedding])\n",
    "resmap = calcmap(ranks, lbs)\n",
    "res['p-umap'].append(resmap)\n",
    "resmap"
   ]
  },
  {
   "cell_type": "markdown",
   "metadata": {},
   "source": [
    "**FOLD 2**"
   ]
  },
  {
   "cell_type": "code",
   "execution_count": 10,
   "metadata": {},
   "outputs": [
    {
     "name": "stderr",
     "output_type": "stream",
     "text": [
      "/tmp/ipykernel_90722/2137468460.py:2: UserWarning: To copy construct from a tensor, it is recommended to use sourceTensor.clone().detach() or sourceTensor.clone().detach().requires_grad_(True), rather than torch.tensor(sourceTensor).\n",
      "  imgstrain = [torch.tensor(x[idx]) for idx in crossidxs[idfold][0]]\n",
      "/tmp/ipykernel_90722/2137468460.py:5: UserWarning: To copy construct from a tensor, it is recommended to use sourceTensor.clone().detach() or sourceTensor.clone().detach().requires_grad_(True), rather than torch.tensor(sourceTensor).\n",
      "  imgstest = [torch.tensor(x[idx]) for idx in crossidxs[idfold][1]]\n"
     ]
    },
    {
     "name": "stdout",
     "output_type": "stream",
     "text": [
      "Training on cuda\n"
     ]
    },
    {
     "name": "stderr",
     "output_type": "stream",
     "text": [
      "100%|██████████| 8/8 [00:00<00:00, 38.26it/s]"
     ]
    },
    {
     "name": "stdout",
     "output_type": "stream",
     "text": [
      "====> Epoch: 1. Time 0:00:00.210122. Average loss: 10.2072\n"
     ]
    },
    {
     "name": "stderr",
     "output_type": "stream",
     "text": [
      "\n",
      "100%|██████████| 8/8 [00:00<00:00, 37.21it/s]"
     ]
    },
    {
     "name": "stdout",
     "output_type": "stream",
     "text": [
      "====> Epoch: 2. Time 0:00:00.215653. Average loss: 0.9732\n"
     ]
    },
    {
     "name": "stderr",
     "output_type": "stream",
     "text": [
      "\n",
      "100%|██████████| 8/8 [00:00<00:00, 38.26it/s]"
     ]
    },
    {
     "name": "stdout",
     "output_type": "stream",
     "text": [
      "====> Epoch: 3. Time 0:00:00.209634. Average loss: 0.6418\n"
     ]
    },
    {
     "name": "stderr",
     "output_type": "stream",
     "text": [
      "\n",
      "100%|██████████| 8/8 [00:00<00:00, 19.36it/s]"
     ]
    },
    {
     "name": "stdout",
     "output_type": "stream",
     "text": [
      "====> Epoch: 4. Time 0:00:00.413907. Average loss: 0.4779\n"
     ]
    },
    {
     "name": "stderr",
     "output_type": "stream",
     "text": [
      "\n",
      "100%|██████████| 8/8 [00:00<00:00, 14.59it/s]"
     ]
    },
    {
     "name": "stdout",
     "output_type": "stream",
     "text": [
      "====> Epoch: 5. Time 0:00:00.549094. Average loss: 0.3775\n"
     ]
    },
    {
     "name": "stderr",
     "output_type": "stream",
     "text": [
      "\n",
      "100%|██████████| 8/8 [00:00<00:00, 15.17it/s]"
     ]
    },
    {
     "name": "stdout",
     "output_type": "stream",
     "text": [
      "====> Epoch: 6. Time 0:00:00.528179. Average loss: 0.3135\n"
     ]
    },
    {
     "name": "stderr",
     "output_type": "stream",
     "text": [
      "\n",
      "100%|██████████| 8/8 [00:00<00:00, 16.59it/s]"
     ]
    },
    {
     "name": "stdout",
     "output_type": "stream",
     "text": [
      "====> Epoch: 7. Time 0:00:00.482787. Average loss: 0.2664\n"
     ]
    },
    {
     "name": "stderr",
     "output_type": "stream",
     "text": [
      "\n",
      "100%|██████████| 8/8 [00:00<00:00, 14.67it/s]"
     ]
    },
    {
     "name": "stdout",
     "output_type": "stream",
     "text": [
      "====> Epoch: 8. Time 0:00:00.545909. Average loss: 0.2303\n"
     ]
    },
    {
     "name": "stderr",
     "output_type": "stream",
     "text": [
      "\n",
      "100%|██████████| 8/8 [00:00<00:00, 15.36it/s]"
     ]
    },
    {
     "name": "stdout",
     "output_type": "stream",
     "text": [
      "====> Epoch: 9. Time 0:00:00.521549. Average loss: 0.2056\n"
     ]
    },
    {
     "name": "stderr",
     "output_type": "stream",
     "text": [
      "\n",
      "100%|██████████| 8/8 [00:00<00:00, 14.73it/s]"
     ]
    },
    {
     "name": "stdout",
     "output_type": "stream",
     "text": [
      "====> Epoch: 10. Time 0:00:00.543750. Average loss: 0.1831\n",
      "Training time: 0:00:04.222187\n"
     ]
    },
    {
     "name": "stderr",
     "output_type": "stream",
     "text": [
      "\n",
      "GPU available: True (cuda), used: True\n",
      "TPU available: False, using: 0 TPU cores\n",
      "HPU available: False, using: 0 HPUs\n"
     ]
    },
    {
     "name": "stdout",
     "output_type": "stream",
     "text": [
      "Mon Dec 16 19:15:48 2024 Building RP forest with 8 trees\n",
      "Mon Dec 16 19:15:48 2024 NN descent for 12 iterations\n",
      "\t 1  /  12\n",
      "\t 2  /  12\n",
      "\t 3  /  12\n",
      "\t 4  /  12\n",
      "\t 5  /  12\n",
      "\tStopping threshold met -- exiting after 5 iterations\n"
     ]
    },
    {
     "name": "stderr",
     "output_type": "stream",
     "text": [
      "LOCAL_RANK: 0 - CUDA_VISIBLE_DEVICES: [0]\n",
      "\n",
      "  | Name    | Type            | Params | Mode \n",
      "----------------------------------------------------\n",
      "0 | encoder | default_encoder | 695 K  | train\n",
      "----------------------------------------------------\n",
      "695 K     Trainable params\n",
      "0         Non-trainable params\n",
      "695 K     Total params\n",
      "2.782     Total estimated model params size (MB)\n",
      "10        Modules in train mode\n",
      "0         Modules in eval mode\n",
      "/home/de/miniconda3/lib/python3.11/site-packages/pytorch_lightning/trainer/connectors/data_connector.py:424: The 'train_dataloader' does not have many workers which may be a bottleneck. Consider increasing the value of the `num_workers` argument` to `num_workers=23` in the `DataLoader` to improve performance.\n"
     ]
    },
    {
     "data": {
      "application/vnd.jupyter.widget-view+json": {
       "model_id": "fa45cd7c72504fbcbe011e35730e76bd",
       "version_major": 2,
       "version_minor": 0
      },
      "text/plain": [
       "Training: |          | 0/? [00:00<?, ?it/s]"
      ]
     },
     "metadata": {},
     "output_type": "display_data"
    },
    {
     "name": "stderr",
     "output_type": "stream",
     "text": [
      "`Trainer.fit` stopped: `max_epochs=10` reached.\n"
     ]
    },
    {
     "name": "stdout",
     "output_type": "stream",
     "text": [
      "Reducing array of shape torch.Size([1000, 3072]) to (1000, 2)\n"
     ]
    },
    {
     "data": {
      "text/plain": [
       "0.8072652214446976"
      ]
     },
     "execution_count": 10,
     "metadata": {},
     "output_type": "execute_result"
    }
   ],
   "source": [
    "idfold = 1 # = Fold 2\n",
    "imgstrain = [torch.tensor(x[idx]) for idx in crossidxs[idfold][0]]\n",
    "lbstrain   = [torch.tensor(y[idx]) for idx in crossidxs[idfold][0]]\n",
    "\n",
    "imgstest = [torch.tensor(x[idx]) for idx in crossidxs[idfold][1]]\n",
    "lbstest   = [torch.tensor(y[idx]) for idx in crossidxs[idfold][1]]\n",
    "\n",
    "ds = CustomDataset(imgstrain, lbstrain, None, train_dataset.classes)\n",
    "dstest = CustomDataset(imgstest, lbstest, None, train_dataset.classes)\n",
    "\n",
    "configfeats(ds)\n",
    "configfeats(dstest)\n",
    "\n",
    "from ptsne import train_parametric_tsne_model\n",
    "from ptsne.config import Config\n",
    "from ptsne.ptsne_net import model\n",
    "\n",
    "config = Config()\n",
    "print(f\"Training on {config.dev}\", flush=True)\n",
    "trainfs = [f for f, l in ds.feats]\n",
    "trainlbs = [l for f, l in ds.feats]\n",
    "\n",
    "dim_input = trainfs[0].shape[0]\n",
    "net = model(dim_input).to(device)\n",
    "\n",
    "fs = torch.stack(trainfs).to(device)\n",
    "lbs = torch.tensor(trainlbs)\n",
    "trainset = TensorDataset(fs, lbs)\n",
    "train_parametric_tsne_model(net, trainset, dim_input, config)\n",
    "\n",
    "net.eval()\n",
    "with torch.no_grad():\n",
    "    fs, lbs = [net(f.to(device).unsqueeze(0)).cpu().squeeze() for f,l in dstest.feats], [l for f,l in dstest.feats]\n",
    "\n",
    "ranks = getallranks(fs)\n",
    "resmap = calcmap(ranks, lbs)\n",
    "res['p-tsne'].append(resmap)\n",
    "resmap\n",
    "\n",
    "\n",
    "# ===============================================================================================\n",
    "#                    P-UMAP\n",
    "# ===============================================================================================\n",
    "\n",
    "\n",
    "\n",
    "import sys\n",
    "\n",
    "try:\n",
    "    from umap_pytorch import PUMAP\n",
    "except ImportError:\n",
    "    print(\"Pacote 'umap-pytorch' não encontrado. Instalando...\")\n",
    "    import subprocess\n",
    "    subprocess.check_call([sys.executable, \"-m\", \"pip\", \"install\", \"umap-pytorch\"])\n",
    "    from umap_pytorch import PUMAP \n",
    "\n",
    "pumap = PUMAP(\n",
    "        encoder=None,           # nn.Module, None for default\n",
    "        decoder=None,           # nn.Module, True for default, None for encoder only\n",
    "        n_neighbors=10,\n",
    "        min_dist=0.1,\n",
    "        metric=\"euclidean\",\n",
    "        n_components=2,\n",
    "        beta=1.0,               # How much to weigh reconstruction loss for decoder\n",
    "        reconstruction_loss=F.binary_cross_entropy_with_logits, # pass in custom reconstruction loss functions\n",
    "        random_state=None,\n",
    "        lr=1e-3,\n",
    "        epochs=10,\n",
    "        batch_size=64,\n",
    "        num_workers=1,\n",
    "        num_gpus=1,\n",
    "        match_nonparametric_umap=False # Train network to match embeddings from non parametric umap\n",
    ")\n",
    "\n",
    "pumap.fit(torch.stack(trainfs))\n",
    "\n",
    "fs = [f for f, l in dstest.feats]\n",
    "lbs = [l for f, l in dstest.feats]\n",
    "\n",
    "embedding = pumap.transform(torch.stack(fs))\n",
    "\n",
    "ranks = getallranks([torch.tensor(e) for e in embedding])\n",
    "resmap = calcmap(ranks, lbs)\n",
    "res['p-umap'].append(resmap)\n",
    "resmap"
   ]
  },
  {
   "cell_type": "markdown",
   "metadata": {},
   "source": [
    "**FOLD 3**"
   ]
  },
  {
   "cell_type": "code",
   "execution_count": 11,
   "metadata": {},
   "outputs": [
    {
     "name": "stderr",
     "output_type": "stream",
     "text": [
      "/tmp/ipykernel_90722/1903354167.py:2: UserWarning: To copy construct from a tensor, it is recommended to use sourceTensor.clone().detach() or sourceTensor.clone().detach().requires_grad_(True), rather than torch.tensor(sourceTensor).\n",
      "  imgstrain = [torch.tensor(x[idx]) for idx in crossidxs[idfold][0]]\n",
      "/tmp/ipykernel_90722/1903354167.py:5: UserWarning: To copy construct from a tensor, it is recommended to use sourceTensor.clone().detach() or sourceTensor.clone().detach().requires_grad_(True), rather than torch.tensor(sourceTensor).\n",
      "  imgstest = [torch.tensor(x[idx]) for idx in crossidxs[idfold][1]]\n"
     ]
    },
    {
     "name": "stdout",
     "output_type": "stream",
     "text": [
      "Training on cuda\n"
     ]
    },
    {
     "name": "stderr",
     "output_type": "stream",
     "text": [
      "100%|██████████| 8/8 [00:00<00:00, 38.24it/s]"
     ]
    },
    {
     "name": "stdout",
     "output_type": "stream",
     "text": [
      "====> Epoch: 1. Time 0:00:00.210030. Average loss: 10.4059\n"
     ]
    },
    {
     "name": "stderr",
     "output_type": "stream",
     "text": [
      "\n",
      "100%|██████████| 8/8 [00:00<00:00, 38.48it/s]"
     ]
    },
    {
     "name": "stdout",
     "output_type": "stream",
     "text": [
      "====> Epoch: 2. Time 0:00:00.208525. Average loss: 0.9664\n"
     ]
    },
    {
     "name": "stderr",
     "output_type": "stream",
     "text": [
      "\n",
      "100%|██████████| 8/8 [00:00<00:00, 38.50it/s]"
     ]
    },
    {
     "name": "stdout",
     "output_type": "stream",
     "text": [
      "====> Epoch: 3. Time 0:00:00.208377. Average loss: 0.6383\n"
     ]
    },
    {
     "name": "stderr",
     "output_type": "stream",
     "text": [
      "\n",
      "100%|██████████| 8/8 [00:00<00:00, 38.22it/s]"
     ]
    },
    {
     "name": "stdout",
     "output_type": "stream",
     "text": [
      "====> Epoch: 4. Time 0:00:00.209875. Average loss: 0.4733\n"
     ]
    },
    {
     "name": "stderr",
     "output_type": "stream",
     "text": [
      "\n",
      "100%|██████████| 8/8 [00:00<00:00, 38.42it/s]"
     ]
    },
    {
     "name": "stdout",
     "output_type": "stream",
     "text": [
      "====> Epoch: 5. Time 0:00:00.208842. Average loss: 0.3784\n"
     ]
    },
    {
     "name": "stderr",
     "output_type": "stream",
     "text": [
      "\n",
      "100%|██████████| 8/8 [00:00<00:00, 38.59it/s]"
     ]
    },
    {
     "name": "stdout",
     "output_type": "stream",
     "text": [
      "====> Epoch: 6. Time 0:00:00.207859. Average loss: 0.3120\n"
     ]
    },
    {
     "name": "stderr",
     "output_type": "stream",
     "text": [
      "\n",
      "100%|██████████| 8/8 [00:00<00:00, 38.46it/s]"
     ]
    },
    {
     "name": "stdout",
     "output_type": "stream",
     "text": [
      "====> Epoch: 7. Time 0:00:00.208583. Average loss: 0.2656\n"
     ]
    },
    {
     "name": "stderr",
     "output_type": "stream",
     "text": [
      "\n",
      "100%|██████████| 8/8 [00:00<00:00, 38.41it/s]"
     ]
    },
    {
     "name": "stdout",
     "output_type": "stream",
     "text": [
      "====> Epoch: 8. Time 0:00:00.208866. Average loss: 0.2325\n"
     ]
    },
    {
     "name": "stderr",
     "output_type": "stream",
     "text": [
      "\n",
      "100%|██████████| 8/8 [00:00<00:00, 27.49it/s]"
     ]
    },
    {
     "name": "stdout",
     "output_type": "stream",
     "text": [
      "====> Epoch: 9. Time 0:00:00.291707. Average loss: 0.2055\n"
     ]
    },
    {
     "name": "stderr",
     "output_type": "stream",
     "text": [
      "\n",
      "100%|██████████| 8/8 [00:00<00:00, 18.06it/s]"
     ]
    },
    {
     "name": "stdout",
     "output_type": "stream",
     "text": [
      "====> Epoch: 10. Time 0:00:00.443599. Average loss: 0.1834\n",
      "Training time: 0:00:02.407729\n"
     ]
    },
    {
     "name": "stderr",
     "output_type": "stream",
     "text": [
      "\n",
      "GPU available: True (cuda), used: True\n",
      "TPU available: False, using: 0 TPU cores\n",
      "HPU available: False, using: 0 HPUs\n"
     ]
    },
    {
     "name": "stdout",
     "output_type": "stream",
     "text": [
      "Mon Dec 16 19:17:08 2024 Building RP forest with 8 trees\n",
      "Mon Dec 16 19:17:08 2024 NN descent for 12 iterations\n",
      "\t 1  /  12\n",
      "\t 2  /  12\n",
      "\t 3  /  12\n",
      "\t 4  /  12\n",
      "\t 5  /  12\n",
      "\tStopping threshold met -- exiting after 5 iterations\n"
     ]
    },
    {
     "name": "stderr",
     "output_type": "stream",
     "text": [
      "LOCAL_RANK: 0 - CUDA_VISIBLE_DEVICES: [0]\n",
      "\n",
      "  | Name    | Type            | Params | Mode \n",
      "----------------------------------------------------\n",
      "0 | encoder | default_encoder | 695 K  | train\n",
      "----------------------------------------------------\n",
      "695 K     Trainable params\n",
      "0         Non-trainable params\n",
      "695 K     Total params\n",
      "2.782     Total estimated model params size (MB)\n",
      "10        Modules in train mode\n",
      "0         Modules in eval mode\n",
      "/home/de/miniconda3/lib/python3.11/site-packages/pytorch_lightning/trainer/connectors/data_connector.py:424: The 'train_dataloader' does not have many workers which may be a bottleneck. Consider increasing the value of the `num_workers` argument` to `num_workers=23` in the `DataLoader` to improve performance.\n"
     ]
    },
    {
     "data": {
      "application/vnd.jupyter.widget-view+json": {
       "model_id": "01f192c22d2d41678543eebc74eaffbe",
       "version_major": 2,
       "version_minor": 0
      },
      "text/plain": [
       "Training: |          | 0/? [00:00<?, ?it/s]"
      ]
     },
     "metadata": {},
     "output_type": "display_data"
    },
    {
     "name": "stderr",
     "output_type": "stream",
     "text": [
      "`Trainer.fit` stopped: `max_epochs=10` reached.\n"
     ]
    },
    {
     "name": "stdout",
     "output_type": "stream",
     "text": [
      "Reducing array of shape torch.Size([1000, 3072]) to (1000, 2)\n"
     ]
    },
    {
     "data": {
      "text/plain": [
       "0.7849810192893556"
      ]
     },
     "execution_count": 11,
     "metadata": {},
     "output_type": "execute_result"
    }
   ],
   "source": [
    "idfold = 2 # = Fold 2\n",
    "imgstrain = [torch.tensor(x[idx]) for idx in crossidxs[idfold][0]]\n",
    "lbstrain   = [torch.tensor(y[idx]) for idx in crossidxs[idfold][0]]\n",
    "\n",
    "imgstest = [torch.tensor(x[idx]) for idx in crossidxs[idfold][1]]\n",
    "lbstest   = [torch.tensor(y[idx]) for idx in crossidxs[idfold][1]]\n",
    "\n",
    "ds = CustomDataset(imgstrain, lbstrain, None, train_dataset.classes)\n",
    "dstest = CustomDataset(imgstest, lbstest, None, train_dataset.classes)\n",
    "\n",
    "configfeats(ds)\n",
    "configfeats(dstest)\n",
    "\n",
    "from ptsne import train_parametric_tsne_model\n",
    "from ptsne.config import Config\n",
    "from ptsne.ptsne_net import model\n",
    "\n",
    "config = Config()\n",
    "print(f\"Training on {config.dev}\", flush=True)\n",
    "trainfs = [f for f, l in ds.feats]\n",
    "trainlbs = [l for f, l in ds.feats]\n",
    "\n",
    "dim_input = trainfs[0].shape[0]\n",
    "net = model(dim_input).to(device)\n",
    "\n",
    "fs = torch.stack(trainfs).to(device)\n",
    "lbs = torch.tensor(trainlbs)\n",
    "trainset = TensorDataset(fs, lbs)\n",
    "train_parametric_tsne_model(net, trainset, dim_input, config)\n",
    "\n",
    "net.eval()\n",
    "with torch.no_grad():\n",
    "    fs, lbs = [net(f.to(device).unsqueeze(0)).cpu().squeeze() for f,l in dstest.feats], [l for f,l in dstest.feats]\n",
    "\n",
    "ranks = getallranks(fs)\n",
    "resmap = calcmap(ranks, lbs)\n",
    "res['p-tsne'].append(resmap)\n",
    "resmap\n",
    "\n",
    "\n",
    "# ===============================================================================================\n",
    "#                    P-UMAP\n",
    "# ===============================================================================================\n",
    "\n",
    "\n",
    "\n",
    "import sys\n",
    "\n",
    "try:\n",
    "    from umap_pytorch import PUMAP\n",
    "except ImportError:\n",
    "    print(\"Pacote 'umap-pytorch' não encontrado. Instalando...\")\n",
    "    import subprocess\n",
    "    subprocess.check_call([sys.executable, \"-m\", \"pip\", \"install\", \"umap-pytorch\"])\n",
    "    from umap_pytorch import PUMAP \n",
    "\n",
    "pumap = PUMAP(\n",
    "        encoder=None,           # nn.Module, None for default\n",
    "        decoder=None,           # nn.Module, True for default, None for encoder only\n",
    "        n_neighbors=10,\n",
    "        min_dist=0.1,\n",
    "        metric=\"euclidean\",\n",
    "        n_components=2,\n",
    "        beta=1.0,               # How much to weigh reconstruction loss for decoder\n",
    "        reconstruction_loss=F.binary_cross_entropy_with_logits, # pass in custom reconstruction loss functions\n",
    "        random_state=None,\n",
    "        lr=1e-3,\n",
    "        epochs=10,\n",
    "        batch_size=64,\n",
    "        num_workers=1,\n",
    "        num_gpus=1,\n",
    "        match_nonparametric_umap=False # Train network to match embeddings from non parametric umap\n",
    ")\n",
    "\n",
    "pumap.fit(torch.stack(trainfs))\n",
    "\n",
    "fs = [f for f, l in dstest.feats]\n",
    "lbs = [l for f, l in dstest.feats]\n",
    "\n",
    "embedding = pumap.transform(torch.stack(fs))\n",
    "\n",
    "ranks = getallranks([torch.tensor(e) for e in embedding])\n",
    "resmap = calcmap(ranks, lbs)\n",
    "res['p-umap'].append(resmap)\n",
    "resmap"
   ]
  },
  {
   "cell_type": "markdown",
   "metadata": {},
   "source": [
    "**FOLD 4**"
   ]
  },
  {
   "cell_type": "code",
   "execution_count": 12,
   "metadata": {},
   "outputs": [
    {
     "name": "stderr",
     "output_type": "stream",
     "text": [
      "/tmp/ipykernel_90722/1464832672.py:2: UserWarning: To copy construct from a tensor, it is recommended to use sourceTensor.clone().detach() or sourceTensor.clone().detach().requires_grad_(True), rather than torch.tensor(sourceTensor).\n",
      "  imgstrain = [torch.tensor(x[idx]) for idx in crossidxs[idfold][0]]\n",
      "/tmp/ipykernel_90722/1464832672.py:5: UserWarning: To copy construct from a tensor, it is recommended to use sourceTensor.clone().detach() or sourceTensor.clone().detach().requires_grad_(True), rather than torch.tensor(sourceTensor).\n",
      "  imgstest = [torch.tensor(x[idx]) for idx in crossidxs[idfold][1]]\n"
     ]
    },
    {
     "name": "stdout",
     "output_type": "stream",
     "text": [
      "Training on cuda\n"
     ]
    },
    {
     "name": "stderr",
     "output_type": "stream",
     "text": [
      "100%|██████████| 8/8 [00:00<00:00, 38.21it/s]"
     ]
    },
    {
     "name": "stdout",
     "output_type": "stream",
     "text": [
      "====> Epoch: 1. Time 0:00:00.210170. Average loss: 10.3702\n"
     ]
    },
    {
     "name": "stderr",
     "output_type": "stream",
     "text": [
      "\n",
      "100%|██████████| 8/8 [00:00<00:00, 24.00it/s]"
     ]
    },
    {
     "name": "stdout",
     "output_type": "stream",
     "text": [
      "====> Epoch: 2. Time 0:00:00.333948. Average loss: 0.9651\n"
     ]
    },
    {
     "name": "stderr",
     "output_type": "stream",
     "text": [
      "\n",
      "100%|██████████| 8/8 [00:00<00:00, 14.71it/s]"
     ]
    },
    {
     "name": "stdout",
     "output_type": "stream",
     "text": [
      "====> Epoch: 3. Time 0:00:00.544468. Average loss: 0.6380\n"
     ]
    },
    {
     "name": "stderr",
     "output_type": "stream",
     "text": [
      "\n",
      "100%|██████████| 8/8 [00:00<00:00, 15.59it/s]"
     ]
    },
    {
     "name": "stdout",
     "output_type": "stream",
     "text": [
      "====> Epoch: 4. Time 0:00:00.513854. Average loss: 0.4718\n"
     ]
    },
    {
     "name": "stderr",
     "output_type": "stream",
     "text": [
      "\n",
      "100%|██████████| 8/8 [00:00<00:00, 15.04it/s]"
     ]
    },
    {
     "name": "stdout",
     "output_type": "stream",
     "text": [
      "====> Epoch: 5. Time 0:00:00.532708. Average loss: 0.3799\n"
     ]
    },
    {
     "name": "stderr",
     "output_type": "stream",
     "text": [
      "\n",
      "100%|██████████| 8/8 [00:00<00:00, 29.80it/s]"
     ]
    },
    {
     "name": "stdout",
     "output_type": "stream",
     "text": [
      "====> Epoch: 6. Time 0:00:00.269435. Average loss: 0.3130\n"
     ]
    },
    {
     "name": "stderr",
     "output_type": "stream",
     "text": [
      "\n",
      "100%|██████████| 8/8 [00:00<00:00, 38.57it/s]"
     ]
    },
    {
     "name": "stdout",
     "output_type": "stream",
     "text": [
      "====> Epoch: 7. Time 0:00:00.208038. Average loss: 0.2681\n"
     ]
    },
    {
     "name": "stderr",
     "output_type": "stream",
     "text": [
      "\n",
      "100%|██████████| 8/8 [00:00<00:00, 38.40it/s]"
     ]
    },
    {
     "name": "stdout",
     "output_type": "stream",
     "text": [
      "====> Epoch: 8. Time 0:00:00.208832. Average loss: 0.2324\n"
     ]
    },
    {
     "name": "stderr",
     "output_type": "stream",
     "text": [
      "\n",
      "100%|██████████| 8/8 [00:00<00:00, 33.15it/s]"
     ]
    },
    {
     "name": "stdout",
     "output_type": "stream",
     "text": [
      "====> Epoch: 9. Time 0:00:00.241969. Average loss: 0.2054\n"
     ]
    },
    {
     "name": "stderr",
     "output_type": "stream",
     "text": [
      "\n",
      "100%|██████████| 8/8 [00:00<00:00, 16.20it/s]"
     ]
    },
    {
     "name": "stdout",
     "output_type": "stream",
     "text": [
      "====> Epoch: 10. Time 0:00:00.494656. Average loss: 0.1829\n",
      "Training time: 0:00:03.559772\n"
     ]
    },
    {
     "name": "stderr",
     "output_type": "stream",
     "text": [
      "\n",
      "GPU available: True (cuda), used: True\n",
      "TPU available: False, using: 0 TPU cores\n",
      "HPU available: False, using: 0 HPUs\n"
     ]
    },
    {
     "name": "stdout",
     "output_type": "stream",
     "text": [
      "Mon Dec 16 19:18:30 2024 Building RP forest with 8 trees\n",
      "Mon Dec 16 19:18:30 2024 NN descent for 12 iterations\n",
      "\t 1  /  12\n",
      "\t 2  /  12\n",
      "\t 3  /  12\n",
      "\t 4  /  12\n",
      "\t 5  /  12\n",
      "\tStopping threshold met -- exiting after 5 iterations\n"
     ]
    },
    {
     "name": "stderr",
     "output_type": "stream",
     "text": [
      "LOCAL_RANK: 0 - CUDA_VISIBLE_DEVICES: [0]\n",
      "\n",
      "  | Name    | Type            | Params | Mode \n",
      "----------------------------------------------------\n",
      "0 | encoder | default_encoder | 695 K  | train\n",
      "----------------------------------------------------\n",
      "695 K     Trainable params\n",
      "0         Non-trainable params\n",
      "695 K     Total params\n",
      "2.782     Total estimated model params size (MB)\n",
      "10        Modules in train mode\n",
      "0         Modules in eval mode\n",
      "/home/de/miniconda3/lib/python3.11/site-packages/pytorch_lightning/trainer/connectors/data_connector.py:424: The 'train_dataloader' does not have many workers which may be a bottleneck. Consider increasing the value of the `num_workers` argument` to `num_workers=23` in the `DataLoader` to improve performance.\n"
     ]
    },
    {
     "data": {
      "application/vnd.jupyter.widget-view+json": {
       "model_id": "813e6210c4fc471ca11a1b411d8703da",
       "version_major": 2,
       "version_minor": 0
      },
      "text/plain": [
       "Training: |          | 0/? [00:00<?, ?it/s]"
      ]
     },
     "metadata": {},
     "output_type": "display_data"
    },
    {
     "name": "stderr",
     "output_type": "stream",
     "text": [
      "`Trainer.fit` stopped: `max_epochs=10` reached.\n"
     ]
    },
    {
     "name": "stdout",
     "output_type": "stream",
     "text": [
      "Reducing array of shape torch.Size([1000, 3072]) to (1000, 2)\n"
     ]
    },
    {
     "data": {
      "text/plain": [
       "0.7811960437027391"
      ]
     },
     "execution_count": 12,
     "metadata": {},
     "output_type": "execute_result"
    }
   ],
   "source": [
    "idfold = 3 # = Fold 2\n",
    "imgstrain = [torch.tensor(x[idx]) for idx in crossidxs[idfold][0]]\n",
    "lbstrain   = [torch.tensor(y[idx]) for idx in crossidxs[idfold][0]]\n",
    "\n",
    "imgstest = [torch.tensor(x[idx]) for idx in crossidxs[idfold][1]]\n",
    "lbstest   = [torch.tensor(y[idx]) for idx in crossidxs[idfold][1]]\n",
    "\n",
    "ds = CustomDataset(imgstrain, lbstrain, None, train_dataset.classes)\n",
    "dstest = CustomDataset(imgstest, lbstest, None, train_dataset.classes)\n",
    "\n",
    "configfeats(ds)\n",
    "configfeats(dstest)\n",
    "\n",
    "from ptsne import train_parametric_tsne_model\n",
    "from ptsne.config import Config\n",
    "from ptsne.ptsne_net import model\n",
    "\n",
    "config = Config()\n",
    "print(f\"Training on {config.dev}\", flush=True)\n",
    "trainfs = [f for f, l in ds.feats]\n",
    "trainlbs = [l for f, l in ds.feats]\n",
    "\n",
    "dim_input = trainfs[0].shape[0]\n",
    "net = model(dim_input).to(device)\n",
    "\n",
    "fs = torch.stack(trainfs).to(device)\n",
    "lbs = torch.tensor(trainlbs)\n",
    "trainset = TensorDataset(fs, lbs)\n",
    "train_parametric_tsne_model(net, trainset, dim_input, config)\n",
    "\n",
    "net.eval()\n",
    "with torch.no_grad():\n",
    "    fs, lbs = [net(f.to(device).unsqueeze(0)).cpu().squeeze() for f,l in dstest.feats], [l for f,l in dstest.feats]\n",
    "\n",
    "ranks = getallranks(fs)\n",
    "resmap = calcmap(ranks, lbs)\n",
    "res['p-tsne'].append(resmap)\n",
    "resmap\n",
    "\n",
    "# ===============================================================================================\n",
    "#                    P-UMAP\n",
    "# ===============================================================================================\n",
    "\n",
    "pumap = PUMAP(\n",
    "        encoder=None,           # nn.Module, None for default\n",
    "        decoder=None,           # nn.Module, True for default, None for encoder only\n",
    "        n_neighbors=10,\n",
    "        min_dist=0.1,\n",
    "        metric=\"euclidean\",\n",
    "        n_components=2,\n",
    "        beta=1.0,               # How much to weigh reconstruction loss for decoder\n",
    "        reconstruction_loss=F.binary_cross_entropy_with_logits, # pass in custom reconstruction loss functions\n",
    "        random_state=None,\n",
    "        lr=1e-3,\n",
    "        epochs=10,\n",
    "        batch_size=64,\n",
    "        num_workers=1,\n",
    "        num_gpus=1,\n",
    "        match_nonparametric_umap=False # Train network to match embeddings from non parametric umap\n",
    ")\n",
    "\n",
    "pumap.fit(torch.stack(trainfs))\n",
    "\n",
    "fs = [f for f, l in dstest.feats]\n",
    "lbs = [l for f, l in dstest.feats]\n",
    "\n",
    "embedding = pumap.transform(torch.stack(fs))\n",
    "\n",
    "ranks = getallranks([torch.tensor(e) for e in embedding])\n",
    "resmap = calcmap(ranks, lbs)\n",
    "res['p-umap'].append(resmap)\n",
    "resmap"
   ]
  },
  {
   "cell_type": "markdown",
   "metadata": {},
   "source": [
    "**FOLD 5**"
   ]
  },
  {
   "cell_type": "code",
   "execution_count": 13,
   "metadata": {},
   "outputs": [
    {
     "name": "stderr",
     "output_type": "stream",
     "text": [
      "/tmp/ipykernel_90722/897998413.py:2: UserWarning: To copy construct from a tensor, it is recommended to use sourceTensor.clone().detach() or sourceTensor.clone().detach().requires_grad_(True), rather than torch.tensor(sourceTensor).\n",
      "  imgstrain = [torch.tensor(x[idx]) for idx in crossidxs[idfold][0]]\n",
      "/tmp/ipykernel_90722/897998413.py:5: UserWarning: To copy construct from a tensor, it is recommended to use sourceTensor.clone().detach() or sourceTensor.clone().detach().requires_grad_(True), rather than torch.tensor(sourceTensor).\n",
      "  imgstest = [torch.tensor(x[idx]) for idx in crossidxs[idfold][1]]\n"
     ]
    },
    {
     "name": "stdout",
     "output_type": "stream",
     "text": [
      "Training on cuda\n"
     ]
    },
    {
     "name": "stderr",
     "output_type": "stream",
     "text": [
      "100%|██████████| 8/8 [00:00<00:00, 15.84it/s]"
     ]
    },
    {
     "name": "stdout",
     "output_type": "stream",
     "text": [
      "====> Epoch: 1. Time 0:00:00.505909. Average loss: 10.3392\n"
     ]
    },
    {
     "name": "stderr",
     "output_type": "stream",
     "text": [
      "\n",
      "100%|██████████| 8/8 [00:00<00:00, 16.81it/s]"
     ]
    },
    {
     "name": "stdout",
     "output_type": "stream",
     "text": [
      "====> Epoch: 2. Time 0:00:00.476727. Average loss: 0.9831\n"
     ]
    },
    {
     "name": "stderr",
     "output_type": "stream",
     "text": [
      "\n",
      "100%|██████████| 8/8 [00:00<00:00, 14.65it/s]"
     ]
    },
    {
     "name": "stdout",
     "output_type": "stream",
     "text": [
      "====> Epoch: 3. Time 0:00:00.546831. Average loss: 0.6457\n"
     ]
    },
    {
     "name": "stderr",
     "output_type": "stream",
     "text": [
      "\n",
      "100%|██████████| 8/8 [00:00<00:00, 14.99it/s]"
     ]
    },
    {
     "name": "stdout",
     "output_type": "stream",
     "text": [
      "====> Epoch: 4. Time 0:00:00.534502. Average loss: 0.4788\n"
     ]
    },
    {
     "name": "stderr",
     "output_type": "stream",
     "text": [
      "\n",
      "100%|██████████| 8/8 [00:00<00:00, 18.96it/s]"
     ]
    },
    {
     "name": "stdout",
     "output_type": "stream",
     "text": [
      "====> Epoch: 5. Time 0:00:00.422551. Average loss: 0.3797\n"
     ]
    },
    {
     "name": "stderr",
     "output_type": "stream",
     "text": [
      "\n",
      "100%|██████████| 8/8 [00:00<00:00, 14.67it/s]"
     ]
    },
    {
     "name": "stdout",
     "output_type": "stream",
     "text": [
      "====> Epoch: 6. Time 0:00:00.545865. Average loss: 0.3152\n"
     ]
    },
    {
     "name": "stderr",
     "output_type": "stream",
     "text": [
      "\n",
      "100%|██████████| 8/8 [00:00<00:00, 15.42it/s]"
     ]
    },
    {
     "name": "stdout",
     "output_type": "stream",
     "text": [
      "====> Epoch: 7. Time 0:00:00.519359. Average loss: 0.2677\n"
     ]
    },
    {
     "name": "stderr",
     "output_type": "stream",
     "text": [
      "\n",
      "100%|██████████| 8/8 [00:00<00:00, 18.21it/s]"
     ]
    },
    {
     "name": "stdout",
     "output_type": "stream",
     "text": [
      "====> Epoch: 8. Time 0:00:00.440075. Average loss: 0.2324\n"
     ]
    },
    {
     "name": "stderr",
     "output_type": "stream",
     "text": [
      "\n",
      "100%|██████████| 8/8 [00:00<00:00, 15.74it/s]"
     ]
    },
    {
     "name": "stdout",
     "output_type": "stream",
     "text": [
      "====> Epoch: 9. Time 0:00:00.508923. Average loss: 0.2046\n"
     ]
    },
    {
     "name": "stderr",
     "output_type": "stream",
     "text": [
      "\n",
      "100%|██████████| 8/8 [00:00<00:00, 20.91it/s]"
     ]
    },
    {
     "name": "stdout",
     "output_type": "stream",
     "text": [
      "====> Epoch: 10. Time 0:00:00.383357. Average loss: 0.1835\n",
      "Training time: 0:00:04.885956\n"
     ]
    },
    {
     "name": "stderr",
     "output_type": "stream",
     "text": [
      "\n",
      "GPU available: True (cuda), used: True\n",
      "TPU available: False, using: 0 TPU cores\n",
      "HPU available: False, using: 0 HPUs\n"
     ]
    },
    {
     "name": "stdout",
     "output_type": "stream",
     "text": [
      "Mon Dec 16 19:19:53 2024 Building RP forest with 8 trees\n",
      "Mon Dec 16 19:19:53 2024 NN descent for 12 iterations\n",
      "\t 1  /  12\n",
      "\t 2  /  12\n",
      "\t 3  /  12\n",
      "\t 4  /  12\n",
      "\t 5  /  12\n",
      "\tStopping threshold met -- exiting after 5 iterations\n"
     ]
    },
    {
     "name": "stderr",
     "output_type": "stream",
     "text": [
      "LOCAL_RANK: 0 - CUDA_VISIBLE_DEVICES: [0]\n",
      "\n",
      "  | Name    | Type            | Params | Mode \n",
      "----------------------------------------------------\n",
      "0 | encoder | default_encoder | 695 K  | train\n",
      "----------------------------------------------------\n",
      "695 K     Trainable params\n",
      "0         Non-trainable params\n",
      "695 K     Total params\n",
      "2.782     Total estimated model params size (MB)\n",
      "10        Modules in train mode\n",
      "0         Modules in eval mode\n",
      "/home/de/miniconda3/lib/python3.11/site-packages/pytorch_lightning/trainer/connectors/data_connector.py:424: The 'train_dataloader' does not have many workers which may be a bottleneck. Consider increasing the value of the `num_workers` argument` to `num_workers=23` in the `DataLoader` to improve performance.\n"
     ]
    },
    {
     "data": {
      "application/vnd.jupyter.widget-view+json": {
       "model_id": "7100f50aeb4c4b36bc74a6409a7fa481",
       "version_major": 2,
       "version_minor": 0
      },
      "text/plain": [
       "Training: |          | 0/? [00:00<?, ?it/s]"
      ]
     },
     "metadata": {},
     "output_type": "display_data"
    },
    {
     "name": "stderr",
     "output_type": "stream",
     "text": [
      "`Trainer.fit` stopped: `max_epochs=10` reached.\n"
     ]
    },
    {
     "name": "stdout",
     "output_type": "stream",
     "text": [
      "Reducing array of shape torch.Size([1000, 3072]) to (1000, 2)\n"
     ]
    },
    {
     "data": {
      "text/plain": [
       "0.799741916521794"
      ]
     },
     "execution_count": 13,
     "metadata": {},
     "output_type": "execute_result"
    }
   ],
   "source": [
    "idfold = 4 # = Fold 2\n",
    "imgstrain = [torch.tensor(x[idx]) for idx in crossidxs[idfold][0]]\n",
    "lbstrain   = [torch.tensor(y[idx]) for idx in crossidxs[idfold][0]]\n",
    "\n",
    "imgstest = [torch.tensor(x[idx]) for idx in crossidxs[idfold][1]]\n",
    "lbstest   = [torch.tensor(y[idx]) for idx in crossidxs[idfold][1]]\n",
    "\n",
    "ds = CustomDataset(imgstrain, lbstrain, None, train_dataset.classes)\n",
    "dstest = CustomDataset(imgstest, lbstest, None, train_dataset.classes)\n",
    "\n",
    "configfeats(ds)\n",
    "configfeats(dstest)\n",
    "\n",
    "from ptsne import train_parametric_tsne_model\n",
    "from ptsne.config import Config\n",
    "from ptsne.ptsne_net import model\n",
    "\n",
    "config = Config()\n",
    "print(f\"Training on {config.dev}\", flush=True)\n",
    "trainfs = [f for f, l in ds.feats]\n",
    "trainlbs = [l for f, l in ds.feats]\n",
    "\n",
    "dim_input = trainfs[0].shape[0]\n",
    "net = model(dim_input).to(device)\n",
    "\n",
    "fs = torch.stack(trainfs).to(device)\n",
    "lbs = torch.tensor(trainlbs)\n",
    "trainset = TensorDataset(fs, lbs)\n",
    "train_parametric_tsne_model(net, trainset, dim_input, config)\n",
    "\n",
    "net.eval()\n",
    "with torch.no_grad():\n",
    "    fs, lbs = [net(f.to(device).unsqueeze(0)).cpu().squeeze() for f,l in dstest.feats], [l for f,l in dstest.feats]\n",
    "\n",
    "ranks = getallranks(fs)\n",
    "resmap = calcmap(ranks, lbs)\n",
    "res['p-tsne'].append(resmap)\n",
    "resmap\n",
    "\n",
    "# ===============================================================================================\n",
    "#                    P-UMAP\n",
    "# ===============================================================================================\n",
    "\n",
    "pumap = PUMAP(\n",
    "        encoder=None,           # nn.Module, None for default\n",
    "        decoder=None,           # nn.Module, True for default, None for encoder only\n",
    "        n_neighbors=10,\n",
    "        min_dist=0.1,\n",
    "        metric=\"euclidean\",\n",
    "        n_components=2,\n",
    "        beta=1.0,               # How much to weigh reconstruction loss for decoder\n",
    "        reconstruction_loss=F.binary_cross_entropy_with_logits, # pass in custom reconstruction loss functions\n",
    "        random_state=None,\n",
    "        lr=1e-3,\n",
    "        epochs=10,\n",
    "        batch_size=64,\n",
    "        num_workers=1,\n",
    "        num_gpus=1,\n",
    "        match_nonparametric_umap=False # Train network to match embeddings from non parametric umap\n",
    ")\n",
    "\n",
    "pumap.fit(torch.stack(trainfs))\n",
    "\n",
    "fs = [f for f, l in dstest.feats]\n",
    "lbs = [l for f, l in dstest.feats]\n",
    "\n",
    "embedding = pumap.transform(torch.stack(fs))\n",
    "\n",
    "ranks = getallranks([torch.tensor(e) for e in embedding])\n",
    "resmap = calcmap(ranks, lbs)\n",
    "res['p-umap'].append(resmap)\n",
    "resmap"
   ]
  },
  {
   "cell_type": "markdown",
   "metadata": {},
   "source": [
    "**Resultados**"
   ]
  },
  {
   "cell_type": "code",
   "execution_count": 14,
   "metadata": {},
   "outputs": [
    {
     "data": {
      "text/plain": [
       "{'p-tsne': [0.7027296666104412,\n",
       "  0.7196101323592725,\n",
       "  0.7286722314333469,\n",
       "  0.6952783730667307,\n",
       "  0.7188504824005804],\n",
       " 'p-umap': [0.7811039688222884,\n",
       "  0.8072652214446976,\n",
       "  0.7849810192893556,\n",
       "  0.7811960437027391,\n",
       "  0.799741916521794]}"
      ]
     },
     "execution_count": 14,
     "metadata": {},
     "output_type": "execute_result"
    }
   ],
   "source": [
    "res"
   ]
  },
  {
   "cell_type": "code",
   "execution_count": 15,
   "metadata": {},
   "outputs": [
    {
     "data": {
      "text/plain": [
       "[{'p-tsne': 0.7130281771740744}, {'p-umap': 0.7908576339561749}]"
      ]
     },
     "execution_count": 15,
     "metadata": {},
     "output_type": "execute_result"
    }
   ],
   "source": [
    "[{r: np.mean(res[r]) } for r in res]"
   ]
  }
 ],
 "metadata": {
  "kernelspec": {
   "display_name": "base",
   "language": "python",
   "name": "python3"
  },
  "language_info": {
   "codemirror_mode": {
    "name": "ipython",
    "version": 3
   },
   "file_extension": ".py",
   "mimetype": "text/x-python",
   "name": "python",
   "nbconvert_exporter": "python",
   "pygments_lexer": "ipython3",
   "version": "3.11.5"
  },
  "orig_nbformat": 4
 },
 "nbformat": 4,
 "nbformat_minor": 2
}
